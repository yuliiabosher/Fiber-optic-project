{
  "nbformat": 4,
  "nbformat_minor": 0,
  "metadata": {
    "colab": {
      "provenance": [],
      "authorship_tag": "ABX9TyNw4f8sBkVf0EGe8+WWxZvu",
      "include_colab_link": true
    },
    "kernelspec": {
      "name": "python3",
      "display_name": "Python 3"
    },
    "language_info": {
      "name": "python"
    }
  },
  "cells": [
    {
      "cell_type": "markdown",
      "metadata": {
        "id": "view-in-github",
        "colab_type": "text"
      },
      "source": [
        "<a href=\"https://colab.research.google.com/github/yuliiabosher/Fiber-optic-project/blob/european_historical_data/EU_historical_data.ipynb\" target=\"_parent\"><img src=\"https://colab.research.google.com/assets/colab-badge.svg\" alt=\"Open In Colab\"/></a>"
      ]
    },
    {
      "cell_type": "markdown",
      "source": [
        "The required Python libraries were imported"
      ],
      "metadata": {
        "id": "wfkliULC7YLB"
      }
    },
    {
      "cell_type": "code",
      "source": [
        "import pandas as pd\n",
        "import matplotlib.pyplot as plt\n",
        "import seaborn as sns"
      ],
      "metadata": {
        "id": "E6xkhXZI7xhz"
      },
      "execution_count": 1,
      "outputs": []
    },
    {
      "cell_type": "markdown",
      "source": [
        "The sheet 'Data' was loaded from the Excel document that could be downloaded using the following link https://ec.europa.eu/newsroom/dae/redirection/document/106734 found at https://digital-strategy.ec.europa.eu/en/library/digital-decade-2024-broadband-coverage-europe-2023. The columns of interest were separated."
      ],
      "metadata": {
        "id": "F08y1b-e-Mwz"
      }
    },
    {
      "cell_type": "code",
      "execution_count": 12,
      "metadata": {
        "id": "TahkEbz95t0e",
        "colab": {
          "base_uri": "https://localhost:8080/",
          "height": 206
        },
        "outputId": "7e76e8a2-ddd6-44f1-fd19-c273354f15e9"
      },
      "outputs": [
        {
          "output_type": "display_data",
          "data": {
            "text/plain": [
              "   Country                        Metric Geography level        Unit  \\\n",
              "0  Austria                     Land area           Total  km squared   \n",
              "1  Austria                    Population           Total         ###   \n",
              "2  Austria                    Households           Total         ###   \n",
              "3  Austria   Broadband coverage (>2Mbps)           Total  Households   \n",
              "4  Austria  Broadband coverage (>30Mbps)           Total  Households   \n",
              "\n",
              "           2018         2019          2020       2021       2022       2023  \n",
              "0  8.387900e+04    83879.000  8.387900e+04    83927.0    83927.0    83927.0  \n",
              "1  8.772865e+06  8858775.000  8.901064e+06  8932664.0  8978929.0  9104772.0  \n",
              "2  3.935534e+06  3883312.000  3.918929e+06  3959143.0  3995050.0  4033080.0  \n",
              "3  3.858862e+06  3813412.384  3.863423e+06        NaN        NaN        NaN  \n",
              "4  2.847375e+06  3058873.000  3.394576e+06  3694166.0  3787714.0  3797226.0  "
            ],
            "text/html": [
              "\n",
              "  <div id=\"df-efe3f643-0533-4bf1-b771-4e97dd90d05b\" class=\"colab-df-container\">\n",
              "    <div>\n",
              "<style scoped>\n",
              "    .dataframe tbody tr th:only-of-type {\n",
              "        vertical-align: middle;\n",
              "    }\n",
              "\n",
              "    .dataframe tbody tr th {\n",
              "        vertical-align: top;\n",
              "    }\n",
              "\n",
              "    .dataframe thead th {\n",
              "        text-align: right;\n",
              "    }\n",
              "</style>\n",
              "<table border=\"1\" class=\"dataframe\">\n",
              "  <thead>\n",
              "    <tr style=\"text-align: right;\">\n",
              "      <th></th>\n",
              "      <th>Country</th>\n",
              "      <th>Metric</th>\n",
              "      <th>Geography level</th>\n",
              "      <th>Unit</th>\n",
              "      <th>2018</th>\n",
              "      <th>2019</th>\n",
              "      <th>2020</th>\n",
              "      <th>2021</th>\n",
              "      <th>2022</th>\n",
              "      <th>2023</th>\n",
              "    </tr>\n",
              "  </thead>\n",
              "  <tbody>\n",
              "    <tr>\n",
              "      <th>0</th>\n",
              "      <td>Austria</td>\n",
              "      <td>Land area</td>\n",
              "      <td>Total</td>\n",
              "      <td>km squared</td>\n",
              "      <td>8.387900e+04</td>\n",
              "      <td>83879.000</td>\n",
              "      <td>8.387900e+04</td>\n",
              "      <td>83927.0</td>\n",
              "      <td>83927.0</td>\n",
              "      <td>83927.0</td>\n",
              "    </tr>\n",
              "    <tr>\n",
              "      <th>1</th>\n",
              "      <td>Austria</td>\n",
              "      <td>Population</td>\n",
              "      <td>Total</td>\n",
              "      <td>###</td>\n",
              "      <td>8.772865e+06</td>\n",
              "      <td>8858775.000</td>\n",
              "      <td>8.901064e+06</td>\n",
              "      <td>8932664.0</td>\n",
              "      <td>8978929.0</td>\n",
              "      <td>9104772.0</td>\n",
              "    </tr>\n",
              "    <tr>\n",
              "      <th>2</th>\n",
              "      <td>Austria</td>\n",
              "      <td>Households</td>\n",
              "      <td>Total</td>\n",
              "      <td>###</td>\n",
              "      <td>3.935534e+06</td>\n",
              "      <td>3883312.000</td>\n",
              "      <td>3.918929e+06</td>\n",
              "      <td>3959143.0</td>\n",
              "      <td>3995050.0</td>\n",
              "      <td>4033080.0</td>\n",
              "    </tr>\n",
              "    <tr>\n",
              "      <th>3</th>\n",
              "      <td>Austria</td>\n",
              "      <td>Broadband coverage (&gt;2Mbps)</td>\n",
              "      <td>Total</td>\n",
              "      <td>Households</td>\n",
              "      <td>3.858862e+06</td>\n",
              "      <td>3813412.384</td>\n",
              "      <td>3.863423e+06</td>\n",
              "      <td>NaN</td>\n",
              "      <td>NaN</td>\n",
              "      <td>NaN</td>\n",
              "    </tr>\n",
              "    <tr>\n",
              "      <th>4</th>\n",
              "      <td>Austria</td>\n",
              "      <td>Broadband coverage (&gt;30Mbps)</td>\n",
              "      <td>Total</td>\n",
              "      <td>Households</td>\n",
              "      <td>2.847375e+06</td>\n",
              "      <td>3058873.000</td>\n",
              "      <td>3.394576e+06</td>\n",
              "      <td>3694166.0</td>\n",
              "      <td>3787714.0</td>\n",
              "      <td>3797226.0</td>\n",
              "    </tr>\n",
              "  </tbody>\n",
              "</table>\n",
              "</div>\n",
              "    <div class=\"colab-df-buttons\">\n",
              "\n",
              "  <div class=\"colab-df-container\">\n",
              "    <button class=\"colab-df-convert\" onclick=\"convertToInteractive('df-efe3f643-0533-4bf1-b771-4e97dd90d05b')\"\n",
              "            title=\"Convert this dataframe to an interactive table.\"\n",
              "            style=\"display:none;\">\n",
              "\n",
              "  <svg xmlns=\"http://www.w3.org/2000/svg\" height=\"24px\" viewBox=\"0 -960 960 960\">\n",
              "    <path d=\"M120-120v-720h720v720H120Zm60-500h600v-160H180v160Zm220 220h160v-160H400v160Zm0 220h160v-160H400v160ZM180-400h160v-160H180v160Zm440 0h160v-160H620v160ZM180-180h160v-160H180v160Zm440 0h160v-160H620v160Z\"/>\n",
              "  </svg>\n",
              "    </button>\n",
              "\n",
              "  <style>\n",
              "    .colab-df-container {\n",
              "      display:flex;\n",
              "      gap: 12px;\n",
              "    }\n",
              "\n",
              "    .colab-df-convert {\n",
              "      background-color: #E8F0FE;\n",
              "      border: none;\n",
              "      border-radius: 50%;\n",
              "      cursor: pointer;\n",
              "      display: none;\n",
              "      fill: #1967D2;\n",
              "      height: 32px;\n",
              "      padding: 0 0 0 0;\n",
              "      width: 32px;\n",
              "    }\n",
              "\n",
              "    .colab-df-convert:hover {\n",
              "      background-color: #E2EBFA;\n",
              "      box-shadow: 0px 1px 2px rgba(60, 64, 67, 0.3), 0px 1px 3px 1px rgba(60, 64, 67, 0.15);\n",
              "      fill: #174EA6;\n",
              "    }\n",
              "\n",
              "    .colab-df-buttons div {\n",
              "      margin-bottom: 4px;\n",
              "    }\n",
              "\n",
              "    [theme=dark] .colab-df-convert {\n",
              "      background-color: #3B4455;\n",
              "      fill: #D2E3FC;\n",
              "    }\n",
              "\n",
              "    [theme=dark] .colab-df-convert:hover {\n",
              "      background-color: #434B5C;\n",
              "      box-shadow: 0px 1px 3px 1px rgba(0, 0, 0, 0.15);\n",
              "      filter: drop-shadow(0px 1px 2px rgba(0, 0, 0, 0.3));\n",
              "      fill: #FFFFFF;\n",
              "    }\n",
              "  </style>\n",
              "\n",
              "    <script>\n",
              "      const buttonEl =\n",
              "        document.querySelector('#df-efe3f643-0533-4bf1-b771-4e97dd90d05b button.colab-df-convert');\n",
              "      buttonEl.style.display =\n",
              "        google.colab.kernel.accessAllowed ? 'block' : 'none';\n",
              "\n",
              "      async function convertToInteractive(key) {\n",
              "        const element = document.querySelector('#df-efe3f643-0533-4bf1-b771-4e97dd90d05b');\n",
              "        const dataTable =\n",
              "          await google.colab.kernel.invokeFunction('convertToInteractive',\n",
              "                                                    [key], {});\n",
              "        if (!dataTable) return;\n",
              "\n",
              "        const docLinkHtml = 'Like what you see? Visit the ' +\n",
              "          '<a target=\"_blank\" href=https://colab.research.google.com/notebooks/data_table.ipynb>data table notebook</a>'\n",
              "          + ' to learn more about interactive tables.';\n",
              "        element.innerHTML = '';\n",
              "        dataTable['output_type'] = 'display_data';\n",
              "        await google.colab.output.renderOutput(dataTable, element);\n",
              "        const docLink = document.createElement('div');\n",
              "        docLink.innerHTML = docLinkHtml;\n",
              "        element.appendChild(docLink);\n",
              "      }\n",
              "    </script>\n",
              "  </div>\n",
              "\n",
              "\n",
              "<div id=\"df-c90d5aa4-f21e-40ff-8444-17c332251363\">\n",
              "  <button class=\"colab-df-quickchart\" onclick=\"quickchart('df-c90d5aa4-f21e-40ff-8444-17c332251363')\"\n",
              "            title=\"Suggest charts\"\n",
              "            style=\"display:none;\">\n",
              "\n",
              "<svg xmlns=\"http://www.w3.org/2000/svg\" height=\"24px\"viewBox=\"0 0 24 24\"\n",
              "     width=\"24px\">\n",
              "    <g>\n",
              "        <path d=\"M19 3H5c-1.1 0-2 .9-2 2v14c0 1.1.9 2 2 2h14c1.1 0 2-.9 2-2V5c0-1.1-.9-2-2-2zM9 17H7v-7h2v7zm4 0h-2V7h2v10zm4 0h-2v-4h2v4z\"/>\n",
              "    </g>\n",
              "</svg>\n",
              "  </button>\n",
              "\n",
              "<style>\n",
              "  .colab-df-quickchart {\n",
              "      --bg-color: #E8F0FE;\n",
              "      --fill-color: #1967D2;\n",
              "      --hover-bg-color: #E2EBFA;\n",
              "      --hover-fill-color: #174EA6;\n",
              "      --disabled-fill-color: #AAA;\n",
              "      --disabled-bg-color: #DDD;\n",
              "  }\n",
              "\n",
              "  [theme=dark] .colab-df-quickchart {\n",
              "      --bg-color: #3B4455;\n",
              "      --fill-color: #D2E3FC;\n",
              "      --hover-bg-color: #434B5C;\n",
              "      --hover-fill-color: #FFFFFF;\n",
              "      --disabled-bg-color: #3B4455;\n",
              "      --disabled-fill-color: #666;\n",
              "  }\n",
              "\n",
              "  .colab-df-quickchart {\n",
              "    background-color: var(--bg-color);\n",
              "    border: none;\n",
              "    border-radius: 50%;\n",
              "    cursor: pointer;\n",
              "    display: none;\n",
              "    fill: var(--fill-color);\n",
              "    height: 32px;\n",
              "    padding: 0;\n",
              "    width: 32px;\n",
              "  }\n",
              "\n",
              "  .colab-df-quickchart:hover {\n",
              "    background-color: var(--hover-bg-color);\n",
              "    box-shadow: 0 1px 2px rgba(60, 64, 67, 0.3), 0 1px 3px 1px rgba(60, 64, 67, 0.15);\n",
              "    fill: var(--button-hover-fill-color);\n",
              "  }\n",
              "\n",
              "  .colab-df-quickchart-complete:disabled,\n",
              "  .colab-df-quickchart-complete:disabled:hover {\n",
              "    background-color: var(--disabled-bg-color);\n",
              "    fill: var(--disabled-fill-color);\n",
              "    box-shadow: none;\n",
              "  }\n",
              "\n",
              "  .colab-df-spinner {\n",
              "    border: 2px solid var(--fill-color);\n",
              "    border-color: transparent;\n",
              "    border-bottom-color: var(--fill-color);\n",
              "    animation:\n",
              "      spin 1s steps(1) infinite;\n",
              "  }\n",
              "\n",
              "  @keyframes spin {\n",
              "    0% {\n",
              "      border-color: transparent;\n",
              "      border-bottom-color: var(--fill-color);\n",
              "      border-left-color: var(--fill-color);\n",
              "    }\n",
              "    20% {\n",
              "      border-color: transparent;\n",
              "      border-left-color: var(--fill-color);\n",
              "      border-top-color: var(--fill-color);\n",
              "    }\n",
              "    30% {\n",
              "      border-color: transparent;\n",
              "      border-left-color: var(--fill-color);\n",
              "      border-top-color: var(--fill-color);\n",
              "      border-right-color: var(--fill-color);\n",
              "    }\n",
              "    40% {\n",
              "      border-color: transparent;\n",
              "      border-right-color: var(--fill-color);\n",
              "      border-top-color: var(--fill-color);\n",
              "    }\n",
              "    60% {\n",
              "      border-color: transparent;\n",
              "      border-right-color: var(--fill-color);\n",
              "    }\n",
              "    80% {\n",
              "      border-color: transparent;\n",
              "      border-right-color: var(--fill-color);\n",
              "      border-bottom-color: var(--fill-color);\n",
              "    }\n",
              "    90% {\n",
              "      border-color: transparent;\n",
              "      border-bottom-color: var(--fill-color);\n",
              "    }\n",
              "  }\n",
              "</style>\n",
              "\n",
              "  <script>\n",
              "    async function quickchart(key) {\n",
              "      const quickchartButtonEl =\n",
              "        document.querySelector('#' + key + ' button');\n",
              "      quickchartButtonEl.disabled = true;  // To prevent multiple clicks.\n",
              "      quickchartButtonEl.classList.add('colab-df-spinner');\n",
              "      try {\n",
              "        const charts = await google.colab.kernel.invokeFunction(\n",
              "            'suggestCharts', [key], {});\n",
              "      } catch (error) {\n",
              "        console.error('Error during call to suggestCharts:', error);\n",
              "      }\n",
              "      quickchartButtonEl.classList.remove('colab-df-spinner');\n",
              "      quickchartButtonEl.classList.add('colab-df-quickchart-complete');\n",
              "    }\n",
              "    (() => {\n",
              "      let quickchartButtonEl =\n",
              "        document.querySelector('#df-c90d5aa4-f21e-40ff-8444-17c332251363 button');\n",
              "      quickchartButtonEl.style.display =\n",
              "        google.colab.kernel.accessAllowed ? 'block' : 'none';\n",
              "    })();\n",
              "  </script>\n",
              "</div>\n",
              "\n",
              "    </div>\n",
              "  </div>\n"
            ],
            "application/vnd.google.colaboratory.intrinsic+json": {
              "type": "dataframe",
              "summary": "{\n  \"name\": \"display(eu_broadband\",\n  \"rows\": 5,\n  \"fields\": [\n    {\n      \"column\": \"Country\",\n      \"properties\": {\n        \"dtype\": \"category\",\n        \"num_unique_values\": 1,\n        \"samples\": [\n          \"Austria\"\n        ],\n        \"semantic_type\": \"\",\n        \"description\": \"\"\n      }\n    },\n    {\n      \"column\": \"Metric\",\n      \"properties\": {\n        \"dtype\": \"string\",\n        \"num_unique_values\": 5,\n        \"samples\": [\n          \"Population\"\n        ],\n        \"semantic_type\": \"\",\n        \"description\": \"\"\n      }\n    },\n    {\n      \"column\": \"Geography level\",\n      \"properties\": {\n        \"dtype\": \"category\",\n        \"num_unique_values\": 1,\n        \"samples\": [\n          \"Total\"\n        ],\n        \"semantic_type\": \"\",\n        \"description\": \"\"\n      }\n    },\n    {\n      \"column\": \"Unit\",\n      \"properties\": {\n        \"dtype\": \"string\",\n        \"num_unique_values\": 3,\n        \"samples\": [\n          \"km squared\"\n        ],\n        \"semantic_type\": \"\",\n        \"description\": \"\"\n      }\n    },\n    {\n      \"column\": 2018,\n      \"properties\": {\n        \"dtype\": \"number\",\n        \"std\": 3139210.3869494265,\n        \"min\": 83879.0,\n        \"max\": 8772865.0,\n        \"num_unique_values\": 5,\n        \"samples\": [\n          8772865.0\n        ],\n        \"semantic_type\": \"\",\n        \"description\": \"\"\n      }\n    },\n    {\n      \"column\": 2019,\n      \"properties\": {\n        \"dtype\": \"number\",\n        \"std\": 3156724.5207545427,\n        \"min\": 83879.0,\n        \"max\": 8858775.0,\n        \"num_unique_values\": 5,\n        \"samples\": [\n          8858775.0\n        ],\n        \"semantic_type\": \"\",\n        \"description\": \"\"\n      }\n    },\n    {\n      \"column\": 2020,\n      \"properties\": {\n        \"dtype\": \"number\",\n        \"std\": 3152100.696199721,\n        \"min\": 83879.0,\n        \"max\": 8901064.0,\n        \"num_unique_values\": 5,\n        \"samples\": [\n          8901064.0\n        ],\n        \"semantic_type\": \"\",\n        \"description\": \"\"\n      }\n    },\n    {\n      \"column\": 2021,\n      \"properties\": {\n        \"dtype\": \"number\",\n        \"std\": 3635464.8536205105,\n        \"min\": 83927.0,\n        \"max\": 8932664.0,\n        \"num_unique_values\": 4,\n        \"samples\": [\n          8932664.0\n        ],\n        \"semantic_type\": \"\",\n        \"description\": \"\"\n      }\n    },\n    {\n      \"column\": 2022,\n      \"properties\": {\n        \"dtype\": \"number\",\n        \"std\": 3651104.092397531,\n        \"min\": 83927.0,\n        \"max\": 8978929.0,\n        \"num_unique_values\": 4,\n        \"samples\": [\n          8978929.0\n        ],\n        \"semantic_type\": \"\",\n        \"description\": \"\"\n      }\n    },\n    {\n      \"column\": 2023,\n      \"properties\": {\n        \"dtype\": \"number\",\n        \"std\": 3704814.1517617656,\n        \"min\": 83927.0,\n        \"max\": 9104772.0,\n        \"num_unique_values\": 4,\n        \"samples\": [\n          9104772.0\n        ],\n        \"semantic_type\": \"\",\n        \"description\": \"\"\n      }\n    }\n  ]\n}"
            }
          },
          "metadata": {}
        }
      ],
      "source": [
        "eu_broadband = pd.read_excel('https://ec.europa.eu/newsroom/dae/redirection/document/106734', sheet_name ='Data', skiprows=6)\n",
        "eu_columns = ['Country', 'Metric', 'Geography level', 'Unit', 2018, 2019, 2020, 2021, 2022, 2023]\n",
        "eu_broadband = eu_broadband[eu_columns]\n",
        "display(eu_broadband.head())"
      ]
    },
    {
      "cell_type": "markdown",
      "source": [
        "The base dataframe datatypes and number of missing values are as follows"
      ],
      "metadata": {
        "id": "e6KPE75rA2Ry"
      }
    },
    {
      "cell_type": "code",
      "source": [
        "display(eu_broadband.info())"
      ],
      "metadata": {
        "id": "ZNsfFhrfA0b1",
        "outputId": "60a01efc-5c6c-489b-a3ee-0383f93a01e5",
        "colab": {
          "base_uri": "https://localhost:8080/",
          "height": 330
        }
      },
      "execution_count": 13,
      "outputs": [
        {
          "output_type": "stream",
          "name": "stdout",
          "text": [
            "<class 'pandas.core.frame.DataFrame'>\n",
            "RangeIndex: 1650 entries, 0 to 1649\n",
            "Data columns (total 10 columns):\n",
            " #   Column           Non-Null Count  Dtype  \n",
            "---  ------           --------------  -----  \n",
            " 0   Country          1650 non-null   object \n",
            " 1   Metric           1650 non-null   object \n",
            " 2   Geography level  1650 non-null   object \n",
            " 3   Unit             1650 non-null   object \n",
            " 4   2018             1122 non-null   float64\n",
            " 5   2019             1091 non-null   float64\n",
            " 6   2020             1157 non-null   float64\n",
            " 7   2021             1138 non-null   float64\n",
            " 8   2022             1170 non-null   float64\n",
            " 9   2023             1138 non-null   float64\n",
            "dtypes: float64(6), object(4)\n",
            "memory usage: 129.0+ KB\n"
          ]
        },
        {
          "output_type": "display_data",
          "data": {
            "text/plain": [
              "None"
            ]
          },
          "metadata": {}
        }
      ]
    },
    {
      "cell_type": "markdown",
      "source": [
        "The distinct metrics in the base dataframe are as follows"
      ],
      "metadata": {
        "id": "kf9g8yoqBX-d"
      }
    },
    {
      "cell_type": "code",
      "source": [
        "display(eu_broadband['Metric'].unique())"
      ],
      "metadata": {
        "id": "MJLjOhbQBCRo",
        "outputId": "f70fdc4d-9e8d-4422-f559-585bc49cc182",
        "colab": {
          "base_uri": "https://localhost:8080/",
          "height": 225
        }
      },
      "execution_count": 15,
      "outputs": [
        {
          "output_type": "display_data",
          "data": {
            "text/plain": [
              "array(['Land area', 'Population', 'Households',\n",
              "       'Broadband coverage (>2Mbps)', 'Broadband coverage (>30Mbps)',\n",
              "       'Broadband coverage (>100Mbps)', 'Broadband coverage (>1Gbps)',\n",
              "       'Broadband coverage (>1Gbps upload and download)',\n",
              "       'Fixed broadband coverage', 'NGA coverage',\n",
              "       'Fixed VHCN coverage (FTTP & DOCSIS 3.1)',\n",
              "       'VHCN coverage (as defined by BEREC)', 'DSL', 'VDSL',\n",
              "       'VDSL 2 Vectoring', 'FTTP', 'Cable modem DOCSIS 3.0',\n",
              "       'Cable modem DOCSIS 3.1', 'FWA', 'LTE', 'Average LTE coverage',\n",
              "       '5G', '5G in the 3.4–3.8\\xa0GHz band', 'Satellite',\n",
              "       'Overall broadband coverage', 'DOCSIS 3.0 & FTTP coverage',\n",
              "       'Cable modem', 'WiMAX', 'HSPA'], dtype=object)"
            ]
          },
          "metadata": {}
        }
      ]
    }
  ]
}