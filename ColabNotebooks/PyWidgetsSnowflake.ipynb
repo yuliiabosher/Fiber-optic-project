{
  "nbformat": 4,
  "nbformat_minor": 0,
  "metadata": {
    "colab": {
      "provenance": [],
      "authorship_tag": "ABX9TyOpL9aYdkatO0mFWlqfIP8U",
      "include_colab_link": true
    },
    "kernelspec": {
      "name": "python3",
      "display_name": "Python 3"
    },
    "language_info": {
      "name": "python"
    },
    "widgets": {
      "application/vnd.jupyter.widget-state+json": {
        "691415a069d44e30abdcd54b6ba6c5ee": {
          "model_module": "@jupyter-widgets/controls",
          "model_name": "VBoxModel",
          "model_module_version": "1.5.0",
          "state": {
            "_dom_classes": [],
            "_model_module": "@jupyter-widgets/controls",
            "_model_module_version": "1.5.0",
            "_model_name": "VBoxModel",
            "_view_count": null,
            "_view_module": "@jupyter-widgets/controls",
            "_view_module_version": "1.5.0",
            "_view_name": "VBoxView",
            "box_style": "",
            "children": [
              "IPY_MODEL_481e568102594c7494adaedf2d28b39d",
              "IPY_MODEL_7bb6f11429c14a74815d3a3914f4b057"
            ],
            "layout": "IPY_MODEL_3316a1e3fc7d41e6aa3d9202b8f17b68"
          }
        },
        "481e568102594c7494adaedf2d28b39d": {
          "model_module": "@jupyter-widgets/controls",
          "model_name": "IntSliderModel",
          "model_module_version": "1.5.0",
          "state": {
            "_dom_classes": [],
            "_model_module": "@jupyter-widgets/controls",
            "_model_module_version": "1.5.0",
            "_model_name": "IntSliderModel",
            "_view_count": null,
            "_view_module": "@jupyter-widgets/controls",
            "_view_module_version": "1.5.0",
            "_view_name": "IntSliderView",
            "continuous_update": true,
            "description": "Recursion: ",
            "description_tooltip": null,
            "disabled": false,
            "layout": "IPY_MODEL_7279640daf83498686ee25616d6dfd78",
            "max": 5,
            "min": 1,
            "orientation": "horizontal",
            "readout": true,
            "readout_format": "d",
            "step": 1,
            "style": "IPY_MODEL_070b312c841c4afdb5797783c74dc6a6",
            "value": 2
          }
        },
        "7bb6f11429c14a74815d3a3914f4b057": {
          "model_module": "@jupyter-widgets/output",
          "model_name": "OutputModel",
          "model_module_version": "1.0.0",
          "state": {
            "_dom_classes": [],
            "_model_module": "@jupyter-widgets/output",
            "_model_module_version": "1.0.0",
            "_model_name": "OutputModel",
            "_view_count": null,
            "_view_module": "@jupyter-widgets/output",
            "_view_module_version": "1.0.0",
            "_view_name": "OutputView",
            "layout": "IPY_MODEL_29e025f6394d4ffbb08fbfaf5a0e9de8",
            "msg_id": "",
            "outputs": [
              {
                "output_type": "display_data",
                "data": {
                  "text/plain": "<Figure size 800x800 with 1 Axes>",
                  "image/png": "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\n"
                },
                "metadata": {}
              }
            ]
          }
        },
        "3316a1e3fc7d41e6aa3d9202b8f17b68": {
          "model_module": "@jupyter-widgets/base",
          "model_name": "LayoutModel",
          "model_module_version": "1.2.0",
          "state": {
            "_model_module": "@jupyter-widgets/base",
            "_model_module_version": "1.2.0",
            "_model_name": "LayoutModel",
            "_view_count": null,
            "_view_module": "@jupyter-widgets/base",
            "_view_module_version": "1.2.0",
            "_view_name": "LayoutView",
            "align_content": null,
            "align_items": null,
            "align_self": null,
            "border": null,
            "bottom": null,
            "display": null,
            "flex": null,
            "flex_flow": null,
            "grid_area": null,
            "grid_auto_columns": null,
            "grid_auto_flow": null,
            "grid_auto_rows": null,
            "grid_column": null,
            "grid_gap": null,
            "grid_row": null,
            "grid_template_areas": null,
            "grid_template_columns": null,
            "grid_template_rows": null,
            "height": null,
            "justify_content": null,
            "justify_items": null,
            "left": null,
            "margin": null,
            "max_height": null,
            "max_width": null,
            "min_height": null,
            "min_width": null,
            "object_fit": null,
            "object_position": null,
            "order": null,
            "overflow": null,
            "overflow_x": null,
            "overflow_y": null,
            "padding": null,
            "right": null,
            "top": null,
            "visibility": null,
            "width": null
          }
        },
        "7279640daf83498686ee25616d6dfd78": {
          "model_module": "@jupyter-widgets/base",
          "model_name": "LayoutModel",
          "model_module_version": "1.2.0",
          "state": {
            "_model_module": "@jupyter-widgets/base",
            "_model_module_version": "1.2.0",
            "_model_name": "LayoutModel",
            "_view_count": null,
            "_view_module": "@jupyter-widgets/base",
            "_view_module_version": "1.2.0",
            "_view_name": "LayoutView",
            "align_content": null,
            "align_items": null,
            "align_self": null,
            "border": null,
            "bottom": null,
            "display": null,
            "flex": null,
            "flex_flow": null,
            "grid_area": null,
            "grid_auto_columns": null,
            "grid_auto_flow": null,
            "grid_auto_rows": null,
            "grid_column": null,
            "grid_gap": null,
            "grid_row": null,
            "grid_template_areas": null,
            "grid_template_columns": null,
            "grid_template_rows": null,
            "height": null,
            "justify_content": null,
            "justify_items": null,
            "left": null,
            "margin": null,
            "max_height": null,
            "max_width": null,
            "min_height": null,
            "min_width": null,
            "object_fit": null,
            "object_position": null,
            "order": null,
            "overflow": null,
            "overflow_x": null,
            "overflow_y": null,
            "padding": null,
            "right": null,
            "top": null,
            "visibility": null,
            "width": "700px"
          }
        },
        "070b312c841c4afdb5797783c74dc6a6": {
          "model_module": "@jupyter-widgets/controls",
          "model_name": "SliderStyleModel",
          "model_module_version": "1.5.0",
          "state": {
            "_model_module": "@jupyter-widgets/controls",
            "_model_module_version": "1.5.0",
            "_model_name": "SliderStyleModel",
            "_view_count": null,
            "_view_module": "@jupyter-widgets/base",
            "_view_module_version": "1.2.0",
            "_view_name": "StyleView",
            "description_width": "",
            "handle_color": null
          }
        },
        "29e025f6394d4ffbb08fbfaf5a0e9de8": {
          "model_module": "@jupyter-widgets/base",
          "model_name": "LayoutModel",
          "model_module_version": "1.2.0",
          "state": {
            "_model_module": "@jupyter-widgets/base",
            "_model_module_version": "1.2.0",
            "_model_name": "LayoutModel",
            "_view_count": null,
            "_view_module": "@jupyter-widgets/base",
            "_view_module_version": "1.2.0",
            "_view_name": "LayoutView",
            "align_content": null,
            "align_items": null,
            "align_self": null,
            "border": null,
            "bottom": null,
            "display": null,
            "flex": null,
            "flex_flow": null,
            "grid_area": null,
            "grid_auto_columns": null,
            "grid_auto_flow": null,
            "grid_auto_rows": null,
            "grid_column": null,
            "grid_gap": null,
            "grid_row": null,
            "grid_template_areas": null,
            "grid_template_columns": null,
            "grid_template_rows": null,
            "height": null,
            "justify_content": null,
            "justify_items": null,
            "left": null,
            "margin": null,
            "max_height": null,
            "max_width": null,
            "min_height": null,
            "min_width": null,
            "object_fit": null,
            "object_position": null,
            "order": null,
            "overflow": null,
            "overflow_x": null,
            "overflow_y": null,
            "padding": null,
            "right": null,
            "top": null,
            "visibility": null,
            "width": null
          }
        }
      }
    }
  },
  "cells": [
    {
      "cell_type": "markdown",
      "metadata": {
        "id": "view-in-github",
        "colab_type": "text"
      },
      "source": [
        "<a href=\"https://colab.research.google.com/github/yuliiabosher/Fiber-optic-project/blob/statistical_analysis/ColabNotebooks/PyWidgetsSnowflake.ipynb\" target=\"_parent\"><img src=\"https://colab.research.google.com/assets/colab-badge.svg\" alt=\"Open In Colab\"/></a>"
      ]
    },
    {
      "cell_type": "markdown",
      "source": [
        "## Filled Polygon\n",
        "\n",
        "fill() draws a filled polygon based on lists of point coordinates x, y.\n",
        "\n",
        "This example uses the Koch snowflake as an example polygon.\n",
        "\n",
        "A slider has been created using PyWidgets that can be used to increase the recursion depth shown on the snowflake"
      ],
      "metadata": {
        "id": "v_FbJY59djOW"
      }
    },
    {
      "cell_type": "code",
      "execution_count": 2,
      "metadata": {
        "colab": {
          "base_uri": "https://localhost:8080/",
          "height": 708,
          "referenced_widgets": [
            "691415a069d44e30abdcd54b6ba6c5ee",
            "481e568102594c7494adaedf2d28b39d",
            "7bb6f11429c14a74815d3a3914f4b057",
            "3316a1e3fc7d41e6aa3d9202b8f17b68",
            "7279640daf83498686ee25616d6dfd78",
            "070b312c841c4afdb5797783c74dc6a6",
            "29e025f6394d4ffbb08fbfaf5a0e9de8"
          ]
        },
        "id": "jY3_YLGcdcOW",
        "outputId": "bc7b7e38-8d9e-4cec-a552-13799628e901"
      },
      "outputs": [
        {
          "output_type": "display_data",
          "data": {
            "text/plain": [
              "VBox(children=(IntSlider(value=1, description='Recursion: ', layout=Layout(width='700px'), max=5, min=1), Outp…"
            ],
            "application/vnd.jupyter.widget-view+json": {
              "version_major": 2,
              "version_minor": 0,
              "model_id": "691415a069d44e30abdcd54b6ba6c5ee"
            }
          },
          "metadata": {}
        }
      ],
      "source": [
        "import matplotlib.pyplot as plt\n",
        "import numpy as np\n",
        "import ipywidgets as widgets\n",
        "\n",
        "def koch_snowflake(order, scale=10):\n",
        "    \"\"\"\n",
        "    Return two lists x, y of point coordinates of the Koch snowflake.\n",
        "\n",
        "    Parameters\n",
        "    ----------\n",
        "    order : int\n",
        "        The recursion depth.\n",
        "    scale : float\n",
        "        The extent of the snowflake (edge length of the base triangle).\n",
        "    \"\"\"\n",
        "    def _koch_snowflake_complex(order):\n",
        "        if order == 0:\n",
        "            # initial triangle\n",
        "            angles = np.array([0, 120, 240]) + 90\n",
        "            return scale / np.sqrt(3) * np.exp(np.deg2rad(angles) * 1j)\n",
        "        else:\n",
        "            ZR = 0.5 - 0.5j * np.sqrt(3) / 3\n",
        "\n",
        "            p1 = _koch_snowflake_complex(order - 1)  # start points\n",
        "            p2 = np.roll(p1, shift=-1)  # end points\n",
        "            dp = p2 - p1  # connection vectors\n",
        "\n",
        "            new_points = np.empty(len(p1) * 4, dtype=np.complex128)\n",
        "            new_points[::4] = p1\n",
        "            new_points[1::4] = p1 + dp / 3\n",
        "            new_points[2::4] = p1 + dp * ZR\n",
        "            new_points[3::4] = p1 + dp / 3 * 2\n",
        "            return new_points\n",
        "\n",
        "    points = _koch_snowflake_complex(order)\n",
        "    x, y = points.real, points.imag\n",
        "    return x, y\n",
        "\n",
        "\n",
        "\n",
        "out = widgets.Output()\n",
        "def show_snowflake(order):\n",
        "  x, y = koch_snowflake(order=order)\n",
        "  plt.figure(figsize=(8, 8))\n",
        "  plt.axis('equal')\n",
        "  plt.fill(x, y)\n",
        "  plt.show()\n",
        "\n",
        "slider = widgets.IntSlider(min=1,max=5,value=1,description='Recursion: ',layout={'width' : '700px'})\n",
        "out = widgets.interactive_output(show_snowflake, {'order': slider})\n",
        "\n",
        "widgets.VBox([slider, out])"
      ]
    }
  ]
}