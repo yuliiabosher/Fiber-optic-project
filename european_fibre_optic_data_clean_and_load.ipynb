{
  "cells": [
    {
      "cell_type": "markdown",
      "metadata": {
        "id": "view-in-github",
        "colab_type": "text"
      },
      "source": [
        "<a href=\"https://colab.research.google.com/github/yuliiabosher/Fiber-optic-project/blob/europe_stats_analysis/european_fibre_optic_data_clean_and_load.ipynb\" target=\"_parent\"><img src=\"https://colab.research.google.com/assets/colab-badge.svg\" alt=\"Open In Colab\"/></a>"
      ]
    },
    {
      "cell_type": "markdown",
      "source": [
        "##Fibre optic data - European statistical data.\n",
        "Load data and clean\n",
        "\n",
        "This notebook contains code to load data provided by the European Commission about broadband connectivity and availability in 27 EU states and the UK. The data will be used to compare fibre optic coverage in the UK with that in key european countries. The data covers several years and also provides a split between rural and urban areas.\n",
        "\n",
        "After loading the data, there is code to show some high level summative and descriptive stats\n"
      ],
      "metadata": {
        "id": "4euUpZu2iUDS"
      },
      "id": "4euUpZu2iUDS"
    },
    {
      "cell_type": "markdown",
      "source": [
        "Read the data files - location of the files should be updated based on your environment EC Broadband coverage in Europe data file available from https://digital-strategy.ec.europa.eu/en/library/digital-decade-2024-broadband-coverage-europe-2023\n",
        "\n",
        "Code checks files exist in specified location\n",
        "\n",
        "NB - currently I have downloaded the excel spreadsheet from the link above and saved the last 2 sheets as csv files\n",
        "\n",
        "sheet **data** - save as EUROPE_FIBRE_HH\n",
        "\n",
        "sheet **data%** - save as EUROPE_FIBRE"
      ],
      "metadata": {
        "id": "F7vq41OiilNF"
      },
      "id": "F7vq41OiilNF"
    },
    {
      "cell_type": "code",
      "execution_count": 21,
      "id": "6b87e41d-d4ea-4c81-98f5-7ba01944dedd",
      "metadata": {
        "colab": {
          "base_uri": "https://localhost:8080/"
        },
        "id": "6b87e41d-d4ea-4c81-98f5-7ba01944dedd",
        "outputId": "66e0b608-9b75-4123-c70d-b7115a6a82c5"
      },
      "outputs": [
        {
          "output_type": "stream",
          "name": "stdout",
          "text": [
            "Drive already mounted at /content/drive; to attempt to forcibly remount, call drive.mount(\"/content/drive\", force_remount=True).\n",
            "Reading Europe fibre data.....\n",
            "Europe fibre file data shape: (1650, 16)\n",
            "Reading Europe fibre data (households).....\n",
            "Europe fibre file data (households) shape: (1650, 15)\n"
          ]
        }
      ],
      "source": [
        "# Import and alias the necessary libraries\n",
        "import pandas as pd\n",
        "import os.path\n",
        "import errno\n",
        "\n",
        "#mount google drive\n",
        "from google.colab import drive\n",
        "drive.mount('/content/drive')\n",
        "\n",
        "#############\n",
        "# EC broadband data file available from https://digital-strategy.ec.europa.eu/en/library/digital-decade-2024-broadband-coverage-europe-2023\n",
        "# save the last sheet in the spreadsheet as .csv and name EUROPE_FIBRE.csv\n",
        "# This path should be set to the location of the file\n",
        "#############\n",
        "fileEuropeData = '/content/drive/MyDrive/Colab/EUROPE_FIBRE.csv'\n",
        "fileEuropeHouseholds = '/content/drive/MyDrive/Colab/EUROPE_FIBRE_HH.csv'\n",
        "\n",
        "#fileEuropeData = 'd:/Users/Sharon/Documents/College/data/EUROPE_FIBRE.csv'\n",
        "#fileEuropeHouseholds = 'd:/Users/Sharon/Documents/College/data/EUROPE_FIBRE_HH.csv'\n",
        "#############\n",
        "# Check we can find the file required, and read it into a pandas dataframe\n",
        "# show the shape of the dataframe\n",
        "#############\n",
        "if os.path.exists(fileEuropeData) :\n",
        "    print(\"Reading Europe fibre data.....\")\n",
        "    dfEurope = pd.read_csv(fileEuropeData)\n",
        "else:\n",
        "    raise FileNotFoundError(errno.ENOENT, os.strerror(errno.ENOENT), fileEuropeData)\n",
        "print(\"Europe fibre file data shape:\", dfEurope.shape)\n",
        "\n",
        "if os.path.exists(fileEuropeHouseholds) :\n",
        "    print(\"Reading Europe fibre data (households).....\")\n",
        "    dfEuropeHH = pd.read_csv(fileEuropeHouseholds)\n",
        "else:\n",
        "    raise FileNotFoundError(errno.ENOENT, os.strerror(errno.ENOENT), fileEuropeHouseholds)\n",
        "print(\"Europe fibre file data (households) shape:\", dfEuropeHH.shape)"
      ]
    },
    {
      "cell_type": "markdown",
      "source": [
        "The data fields holding the values for each year require some cleaning.\n",
        "\n",
        "This is done for both dataframes -\n",
        "dfEurope and dfEuropeHH\n",
        "\n",
        "1. The % and absolute values are loaded as strings because they contain commas and % signs. There are also some dashes (-) and spaces.\n",
        "2. The column called Geography level is renamed to URClass to reflect Urban/Rural values\n",
        "\n",
        "The resulting cleaned dataframes are named\n",
        "\n",
        "dfEuropeClean\n",
        "\n",
        "dfEuropeCleanHH"
      ],
      "metadata": {
        "id": "SYROMaZ2jR5R"
      },
      "id": "SYROMaZ2jR5R"
    },
    {
      "cell_type": "code",
      "execution_count": 22,
      "id": "a87511e9-bb65-4fbf-ac7d-c8718224c38e",
      "metadata": {
        "id": "a87511e9-bb65-4fbf-ac7d-c8718224c38e"
      },
      "outputs": [],
      "source": [
        "###DEFINE FUNCTIONS FOR CLEANING THE FILE\n",
        "#fn_clean_years removed % sign and changes datatype to float\n",
        "#fn_change_col_name will change any column name in any dataframe\n",
        "\n",
        "\n",
        "def fn_clean_years(thisdf, thiscol):\n",
        "  #check column is still a string\n",
        "  if thisdf[thiscol].dtype == 'object':\n",
        "    #check for dashes -\n",
        "    thisdf[thiscol] = thisdf[thiscol].str.replace('-', '')\n",
        "    #convert the yearly value to a float - first remove the % sign\n",
        "    thisdf[thiscol] = thisdf[thiscol].str.replace('%', '')#.astype(float)\n",
        "    #check if there's a comma and remove those\n",
        "    thisdf[thiscol] = thisdf[thiscol].str.replace(',', '')#.astype(float)\n",
        "    #check for blanks\n",
        "    thisdf[thiscol] = thisdf[thiscol].str.replace(' ', '')#.astype(float)\n",
        "    #finally replace empty strings with None\n",
        "    thisdf[thiscol] = thisdf[thiscol].replace('', None)\n",
        "    #now change the datatype of the column\n",
        "    #thisdf.astype({thiscol: 'float'}).dtypes\n",
        "    thisdf[thiscol] = thisdf[thiscol].astype(float)\n",
        "  return thisdf\n",
        "\n",
        "def fn_change_col_name(thisdf, oldname, newname):\n",
        "  #change the name of the geography column to URClass\n",
        "  thisdf.rename(columns={oldname: newname}, inplace=True)\n",
        "  return thisdf"
      ]
    },
    {
      "cell_type": "code",
      "execution_count": 23,
      "id": "cd03ef69-4df0-431e-b70b-7cef9b76b6f1",
      "metadata": {
        "colab": {
          "base_uri": "https://localhost:8080/"
        },
        "id": "cd03ef69-4df0-431e-b70b-7cef9b76b6f1",
        "outputId": "95fb03bc-529d-4c90-d8cf-e0d7e0431db8"
      },
      "outputs": [
        {
          "output_type": "stream",
          "name": "stdout",
          "text": [
            "   Country                        Metric URClass             Unit  \\\n",
            "0  Austria                     Land area   Total       km squared   \n",
            "1  Austria                    Population   Total              ###   \n",
            "2  Austria                    Households   Total              ###   \n",
            "3  Austria   Broadband coverage (>2Mbps)   Total  % of Households   \n",
            "4  Austria  Broadband coverage (>30Mbps)   Total  % of Households   \n",
            "\n",
            "           2013          2014          2015          2016          2017  \\\n",
            "0    8387900.0%    8387900.0%    8387900.0%    8387900.0%    8387900.0%   \n",
            "1  844301800.0%  845186000.0%  850688900.0%  857626100.0%  869007600.0%   \n",
            "2  367087600.0%  373890627.2%  381326121.0%  385514998.2%  390333256.0%   \n",
            "3         98.6%         98.4%         98.0%         98.1%         97.9%   \n",
            "4         55.6%         60.3%         65.2%         67.3%         71.3%   \n",
            "\n",
            "          2018         2019         2020         2021         2022  \\\n",
            "0    8387900.0    8387900.0    8387900.0    8392700.0    8392700.0   \n",
            "1  877286500.0  885877500.0  890106400.0  893266400.0  897892900.0   \n",
            "2  393553380.2  388331200.0  391892900.0  395914300.0  399505000.0   \n",
            "3         98.1         98.2         98.6          NaN          NaN   \n",
            "4         72.4         78.8         86.6         93.3         94.8   \n",
            "\n",
            "          2023 Unnamed: 15  \n",
            "0    8392700.0         NaN  \n",
            "1  910477200.0         NaN  \n",
            "2  403308000.0         NaN  \n",
            "3          NaN         NaN  \n",
            "4         94.2         NaN  \n",
            "   Country                        Metric URClass        Unit          2013  \\\n",
            "0  Austria                     Land area   Total  km squared       83,879    \n",
            "1  Austria                    Population   Total         ###    8,443,018    \n",
            "2  Austria                    Households   Total         ###    3,670,876    \n",
            "3  Austria   Broadband coverage (>2Mbps)   Total  Households    3,619,912    \n",
            "4  Austria  Broadband coverage (>30Mbps)   Total  Households    2,040,840    \n",
            "\n",
            "           2014          2015          2016          2017       2018  \\\n",
            "0       83,879        83,879        83,879        83,879     83879.0   \n",
            "1    8,451,860     8,506,889     8,576,261     8,690,076   8772865.0   \n",
            "2    3,738,906     3,813,261     3,855,150     3,903,333   3935534.0   \n",
            "3    3,679,471     3,736,996     3,781,362     3,822,764   3858862.0   \n",
            "4    2,253,339     2,484,992     2,594,044     2,782,689   2847375.0   \n",
            "\n",
            "        2019       2020       2021       2022       2023  \n",
            "0    83879.0    83879.0    83927.0    83927.0    83927.0  \n",
            "1  8858775.0  8901064.0  8932664.0  8978929.0  9104772.0  \n",
            "2  3883312.0  3918929.0  3959143.0  3995050.0  4033080.0  \n",
            "3  3813412.0  3863423.0        NaN        NaN        NaN  \n",
            "4  3058873.0  3394576.0  3694166.0  3787714.0  3797226.0  \n"
          ]
        }
      ],
      "source": [
        "#clean and prepare data\n",
        "#we need to rename the Geography level URClass cos it didn't seemto like the space in the name\n",
        "#then for each of the year columns strip the % sign from the value and change it from a string to a float\n",
        "dfEuropeClean = fn_change_col_name(dfEurope, 'Geography level', 'URClass')\n",
        "dfEuropeClean = fn_clean_years(dfEuropeClean, '2023')\n",
        "dfEuropeClean = fn_clean_years(dfEuropeClean, '2022')\n",
        "dfEuropeClean = fn_clean_years(dfEuropeClean, '2021')\n",
        "dfEuropeClean = fn_clean_years(dfEuropeClean, '2020')\n",
        "dfEuropeClean = fn_clean_years(dfEuropeClean, '2019')\n",
        "dfEuropeClean = fn_clean_years(dfEuropeClean, '2018')\n",
        "print(dfEuropeClean.head())\n",
        "\n",
        "#now do the same for the households data\n",
        "#in this case, we need to strip a , from the year columns and change it to a float\n",
        "dfEuropeCleanHH = fn_change_col_name(dfEuropeHH, 'Geography level', 'URClass')\n",
        "dfEuropeCleanHH = fn_clean_years(dfEuropeCleanHH, '2023')\n",
        "dfEuropeCleanHH = fn_clean_years(dfEuropeCleanHH, '2022')\n",
        "dfEuropeCleanHH = fn_clean_years(dfEuropeCleanHH, '2021')\n",
        "dfEuropeCleanHH = fn_clean_years(dfEuropeCleanHH, '2020')\n",
        "dfEuropeCleanHH = fn_clean_years(dfEuropeCleanHH, '2019')\n",
        "dfEuropeCleanHH = fn_clean_years(dfEuropeCleanHH, '2018')\n",
        "print(dfEuropeCleanHH.head())"
      ]
    },
    {
      "cell_type": "markdown",
      "source": [
        "Reduce the columns to just show those for 2018 onwards, as well as the country, the metric(FTTP etc) and the URClass (Rural or Total)"
      ],
      "metadata": {
        "id": "Q0Rgoux1kl1G"
      },
      "id": "Q0Rgoux1kl1G"
    },
    {
      "cell_type": "code",
      "execution_count": 24,
      "id": "f0cb2400-4a10-4635-9d10-dc82ad55c614",
      "metadata": {
        "colab": {
          "base_uri": "https://localhost:8080/"
        },
        "id": "f0cb2400-4a10-4635-9d10-dc82ad55c614",
        "outputId": "c0a9e022-8aef-41fe-c877-b0b21533a315"
      },
      "outputs": [
        {
          "output_type": "stream",
          "name": "stdout",
          "text": [
            "   Country                        Metric URClass         2018         2019  \\\n",
            "0  Austria                     Land area   Total    8387900.0    8387900.0   \n",
            "1  Austria                    Population   Total  877286500.0  885877500.0   \n",
            "2  Austria                    Households   Total  393553380.2  388331200.0   \n",
            "3  Austria   Broadband coverage (>2Mbps)   Total         98.1         98.2   \n",
            "4  Austria  Broadband coverage (>30Mbps)   Total         72.4         78.8   \n",
            "\n",
            "          2020         2021         2022         2023  \n",
            "0    8387900.0    8392700.0    8392700.0    8392700.0  \n",
            "1  890106400.0  893266400.0  897892900.0  910477200.0  \n",
            "2  391892900.0  395914300.0  399505000.0  403308000.0  \n",
            "3         98.6          NaN          NaN          NaN  \n",
            "4         86.6         93.3         94.8         94.2  \n",
            "   Country                        Metric URClass       2018       2019  \\\n",
            "0  Austria                     Land area   Total    83879.0    83879.0   \n",
            "1  Austria                    Population   Total  8772865.0  8858775.0   \n",
            "2  Austria                    Households   Total  3935534.0  3883312.0   \n",
            "3  Austria   Broadband coverage (>2Mbps)   Total  3858862.0  3813412.0   \n",
            "4  Austria  Broadband coverage (>30Mbps)   Total  2847375.0  3058873.0   \n",
            "\n",
            "        2020       2021       2022       2023  \n",
            "0    83879.0    83927.0    83927.0    83927.0  \n",
            "1  8901064.0  8932664.0  8978929.0  9104772.0  \n",
            "2  3918929.0  3959143.0  3995050.0  4033080.0  \n",
            "3  3863423.0        NaN        NaN        NaN  \n",
            "4  3394576.0  3694166.0  3787714.0  3797226.0  \n"
          ]
        }
      ],
      "source": [
        "europeCols = ['Country','Metric','URClass','2018','2019','2020','2021','2022','2023']\n",
        "dfEuropeClean = dfEuropeClean[europeCols]\n",
        "print(dfEuropeClean.head())\n",
        "\n",
        "europeHHCols = ['Country','Metric','URClass','2018','2019','2020','2021','2022','2023']\n",
        "dfEuropeCleanHH = dfEuropeCleanHH[europeCols]\n",
        "print(dfEuropeCleanHH.head())"
      ]
    },
    {
      "cell_type": "markdown",
      "source": [
        "Now rename the value fields in each dataset so when merged they have sensible names\n",
        "\n",
        "in the percentage dataframe\n",
        "2018 becomes 2018% etc\n",
        "\n",
        "in the no of households dataframe\n",
        "2018 becomes 2018HH etc\n",
        "\n",
        "Then merge the two dataframes on Country/Metric/URClass"
      ],
      "metadata": {
        "id": "LcJ_R1u7k2Bz"
      },
      "id": "LcJ_R1u7k2Bz"
    },
    {
      "cell_type": "code",
      "execution_count": 25,
      "id": "7b6a4db9-a345-40ac-a8af-dfb9a1ea654e",
      "metadata": {
        "colab": {
          "base_uri": "https://localhost:8080/"
        },
        "id": "7b6a4db9-a345-40ac-a8af-dfb9a1ea654e",
        "outputId": "01d9735b-e7c0-43ce-81e1-4b2d410e2b39"
      },
      "outputs": [
        {
          "output_type": "stream",
          "name": "stderr",
          "text": [
            "<ipython-input-22-5281cde9183b>:26: SettingWithCopyWarning: \n",
            "A value is trying to be set on a copy of a slice from a DataFrame\n",
            "\n",
            "See the caveats in the documentation: https://pandas.pydata.org/pandas-docs/stable/user_guide/indexing.html#returning-a-view-versus-a-copy\n",
            "  thisdf.rename(columns={oldname: newname}, inplace=True)\n"
          ]
        }
      ],
      "source": [
        "#rename year columns in each dataset\n",
        "dfEuropeClean = fn_change_col_name(dfEuropeClean, '2018', '2018%')\n",
        "dfEuropeClean = fn_change_col_name(dfEuropeClean, '2019', '2019%')\n",
        "dfEuropeClean = fn_change_col_name(dfEuropeClean, '2020', '2020%')\n",
        "dfEuropeClean = fn_change_col_name(dfEuropeClean, '2021', '2021%')\n",
        "dfEuropeClean = fn_change_col_name(dfEuropeClean, '2022', '2022%')\n",
        "dfEuropeClean = fn_change_col_name(dfEuropeClean, '2023', '2023%')\n",
        "\n",
        "dfEuropeCleanHH = fn_change_col_name(dfEuropeCleanHH, '2018', '2018HH')\n",
        "dfEuropeCleanHH = fn_change_col_name(dfEuropeCleanHH, '2019', '2019HH')\n",
        "dfEuropeCleanHH = fn_change_col_name(dfEuropeCleanHH, '2020', '2020HH')\n",
        "dfEuropeCleanHH = fn_change_col_name(dfEuropeCleanHH, '2021', '2021HH')\n",
        "dfEuropeCleanHH = fn_change_col_name(dfEuropeCleanHH, '2022', '2022HH')\n",
        "dfEuropeCleanHH = fn_change_col_name(dfEuropeCleanHH, '2023', '2023HH')\n",
        "\n",
        "##merge the two datasets\n",
        "colslist = ['Country', 'Metric','URClass']\n",
        "dfFinal = pd.merge(dfEuropeClean,dfEuropeCleanHH,on=colslist, how='inner')\n",
        "\n"
      ]
    },
    {
      "cell_type": "markdown",
      "source": [
        "Finally, lets only return those rows for the metric FTTP - this means we will have only values for fibre to the premises availability\n",
        "\n",
        "The resulting dataframe dfEuropeCleanFTTP, has the following structure\n",
        "\n",
        "Country - name of the country\n",
        "\n",
        "Metric - now always FTTP\n",
        "\n",
        "URClass - Total (ie rural and urban) or Rural\n",
        "\n",
        "2018% - percentage of households with access to FTTP in 2018\n",
        "\n",
        "2018HH - absolute number of households with access to FTTP in 2018\n",
        "\n",
        "2019% - percentage of households with access to FTTP in 2019\n",
        "\n",
        "2019HH - absolute number of households with access to FTTP in 2019\n",
        "\n",
        "2020% - percentage of households with access to FTTP in 2020\n",
        "\n",
        "2020HH - absolute number of households with access to FTTP in 2020\n",
        "\n",
        "2021% - percentage of households with access to FTTP in 2021\n",
        "\n",
        "2021HH - absolute number of households with access to FTTP in 2021\n",
        "\n",
        "2022% - percentage of households with access to FTTP in 2022\n",
        "\n",
        "2022HH - absolute number of households with access to FTTP in 2022\n",
        "\n",
        "2023% - percentage of households with access to FTTP in 2023\n",
        "\n",
        "2023HH - absolute number of households with access to FTTP in 2023\n",
        "\n"
      ],
      "metadata": {
        "id": "mzuZVRZQlTMA"
      },
      "id": "mzuZVRZQlTMA"
    },
    {
      "cell_type": "code",
      "execution_count": 26,
      "id": "8a6de3a6-f612-462f-8324-155b8f336890",
      "metadata": {
        "id": "8a6de3a6-f612-462f-8324-155b8f336890"
      },
      "outputs": [],
      "source": [
        "###DEFINE FUNCTION TO FILTER DATASET BY METRIC\n",
        "\n",
        "def fn_filter_by_metric(thisdf, thismetric):\n",
        "  #return a new dataset which only contains specified metric\n",
        "  return thisdf.query('Metric == \"' + thismetric + '\"')\n",
        "\n",
        "#now run this function to get only those rows where Metric = FTTP\n",
        "#this will give us all the rows for full fibre availability\n",
        "dfEuropeCleanFTTP = fn_filter_by_metric(dfFinal, 'FTTP')\n",
        "dfEuropeCleanFTTP.head()\n",
        "\n",
        "#drop summary rows so only the countries are left\n",
        "dfEuropeCleanFTTPTotalDropEU = dfEuropeCleanFTTPTotal.drop(dfEuropeCleanFTTPTotal[dfEuropeCleanFTTPTotal['Country'] == 'EU27'].index)\n",
        "dfEuropeCleanFTTPTotalDropEU = dfEuropeCleanFTTPTotalDropEU.drop(dfEuropeCleanFTTPTotal[dfEuropeCleanFTTPTotal['Country'] == 'EU28'].index)\n"
      ]
    },
    {
      "cell_type": "markdown",
      "source": [
        "Now we need to get some summative and descriptive numbers\n",
        "for the countries\n",
        "- top 5 countries in 2023 for availability % (urban and rural)\n",
        "- bottom 5 countries in 2023 for availability % (urban and rural)\n",
        "\n",
        "\n",
        "- top 5 countries in 2023 for availability % (rural only)\n",
        "- bottom 5 countries in 2023 for availability % (rural only)\n",
        "\n",
        "\n",
        "-  5 countries with highest growth in availability % in last 5 years (urban and rural)\n",
        "-  5 countries with lowest  growth in availability % in last 5 years (urban and rural)\n"
      ],
      "metadata": {
        "id": "zCM1dtPBMxrj"
      },
      "id": "zCM1dtPBMxrj"
    },
    {
      "cell_type": "code",
      "source": [
        "##############################################################\n",
        "#INITIAL ANALYSIS###############################\n",
        "##############################################################\n",
        "\n",
        "####Funtion to filter dataset by URClass\n",
        "\n",
        "def fn_filter_by_urclass(thisdf, thisUrclass):\n",
        "  #return a new dataset which only contains specified URClass\n",
        "  return thisdf.query('URClass == \"' + thisUrclass + '\"')\n",
        "\n",
        "####Funtion to filter dataset by country\n",
        "def fn_filter_by_country(thisdf, thiscountry):\n",
        "  #return a new dataset which only contains specified country\n",
        "  return thisdf.query('Country == \"' + thiscountry + '\"')\n",
        "\n"
      ],
      "metadata": {
        "id": "o988Lt5VNUz8"
      },
      "id": "o988Lt5VNUz8",
      "execution_count": 27,
      "outputs": []
    },
    {
      "cell_type": "code",
      "execution_count": 28,
      "id": "9c257efe-8746-4072-a441-e3d16387828f",
      "metadata": {
        "id": "9c257efe-8746-4072-a441-e3d16387828f",
        "outputId": "39a46d84-565e-4932-cc70-a35550936fc7",
        "colab": {
          "base_uri": "https://localhost:8080/"
        }
      },
      "outputs": [
        {
          "output_type": "stream",
          "name": "stdout",
          "text": [
            "      Country Metric URClass  2018%  2019%  2020%  2021%  2022%  2023%  \\\n",
            "798     Spain   FTTP   Total   77.4   80.4   84.9   88.9   91.0   95.2   \n",
            "711   Romania   FTTP   Total   62.7   68.1   75.9   87.1   95.6   95.0   \n",
            "682  Portugal   FTTP   Total   70.2   76.6   82.3   87.6   90.8   92.3   \n",
            "392   Iceland   FTTP   Total   76.2   80.4   83.5   87.6   88.2   91.0   \n",
            "73   Bulgaria   FTTP   Total   54.2   65.2   75.2   81.4   85.6   88.6   \n",
            "\n",
            "         2018HH      2019HH      2020HH      2021HH      2022HH      2023HH  \n",
            "798  13907642.0  14487413.0  15442337.0  16304471.0  16710576.0  17492229.0  \n",
            "711   4694397.0   5098126.0   5681433.0   6515089.0   7150980.0   7106377.0  \n",
            "682   2850981.0   3100505.0   3319290.0   3540247.0   3668679.0   3749559.0  \n",
            "392    100829.0    114011.0    118376.0    122084.0    120464.0    126890.0  \n",
            "73    1589576.0   1877295.0   2173209.0   2345497.0   2439632.0   2484082.0  \n",
            "            Country Metric URClass  2018%  2019%  2020%  2021%  2022%  2023%  \\\n",
            "943            EU28   FTTP   Total   29.1   33.6   38.9   46.3   53.7   62.4   \n",
            "914            EU27   FTTP   Total   33.2   37.7   42.9   49.8   56.4   64.0   \n",
            "276          France   FTTP   Total   37.8   43.8   52.6   63.4   73.4   81.4   \n",
            "798           Spain   FTTP   Total   77.4   80.4   84.9   88.9   91.0   95.2   \n",
            "885  United Kingdom   FTTP   Total    3.8    8.5   14.5   23.3   36.3   51.6   \n",
            "\n",
            "         2018HH      2019HH      2020HH       2021HH       2022HH       2023HH  \n",
            "943  64822795.0  75010886.0  86821299.0  102477771.0  118662066.0  138570638.0  \n",
            "914  63634007.0  72356227.0  82254741.0   95686049.0  107869253.0  123319547.0  \n",
            "276  11461009.0  12618827.0  15249003.0   18319605.0   21319922.0   23714522.0  \n",
            "798  13907642.0  14487413.0  15442337.0   16304471.0   16710576.0   17492229.0  \n",
            "885   1188788.0   2654659.0   4566558.0    6791722.0   10792813.0   15251091.0  \n"
          ]
        }
      ],
      "source": [
        "\n",
        "#order by 2023% column to set which 5 countries have the highest % availability in 2023\n",
        "#show top five only\n",
        "#filter to get total rows only\n",
        "dfEuropeCleanFTTPTotal = fn_filter_by_urclass(dfEuropeCleanFTTP, 'Total')\n",
        "\n",
        "dfEuropeCleanFTTPTotal = dfEuropeCleanFTTPTotal.sort_values(by=['2023%'], ascending=False)\n",
        "print(dfEuropeCleanFTTPTotal.iloc[0:5])\n",
        "\n",
        "#now show those with the largest amount of population with access to FTTP\n",
        "dfEuropeCleanFTTPTotal = dfEuropeCleanFTTPTotal.sort_values(by=['2023HH'], ascending=False)\n",
        "print(dfEuropeCleanFTTPTotal.iloc[0:5])"
      ]
    },
    {
      "cell_type": "code",
      "source": [
        "#order by 2023 column to set which 5 countries have the lowest % availability\n",
        "#show bottom five only\n",
        "#filter to get total rows only\n",
        "dfEuropeCleanFTTPTotal = fn_filter_by_urclass(dfEuropeCleanFTTP, 'Total')\n",
        "\n",
        "dfEuropeCleanFTTPTotal = dfEuropeCleanFTTPTotal.sort_values(by=['2023%'], ascending=True)\n",
        "print(dfEuropeCleanFTTPTotal.iloc[0:5])\n"
      ],
      "metadata": {
        "id": "IuPh4WuYNntV",
        "outputId": "b83f30ac-24ea-4b68-a4bb-9fa5e129ee4a",
        "colab": {
          "base_uri": "https://localhost:8080/"
        }
      },
      "id": "IuPh4WuYNntV",
      "execution_count": 29,
      "outputs": [
        {
          "output_type": "stream",
          "name": "stdout",
          "text": [
            "     Country Metric URClass  2018%  2019%  2020%  2021%  2022%  2023%  \\\n",
            "44   Belgium   FTTP   Total    1.4    3.6    6.5   10.1   17.2   25.0   \n",
            "305  Germany   FTTP   Total    8.5   10.5   13.8   15.4   19.3   29.8   \n",
            "160  Czechia   FTTP   Total   28.3   29.3   33.3   35.8   37.4   36.0   \n",
            "334   Greece   FTTP   Total    0.4    7.1   10.2   19.8   27.8   38.4   \n",
            "15   Austria   FTTP   Total   13.0   13.8   20.5   26.6   36.6   41.0   \n",
            "\n",
            "        2018HH     2019HH     2020HH     2021HH     2022HH      2023HH  \n",
            "44     68689.0   174923.0   309472.0   503257.0   861948.0   1204619.0  \n",
            "305  3463230.0  4351459.0  5731176.0  6425303.0  7975905.0  12325987.0  \n",
            "160  1247049.0  1296949.0  1405288.0  1515831.0  1587877.0   1734901.0  \n",
            "334    16624.0   303044.0   436289.0   849460.0  1189474.0   1606944.0  \n",
            "15    512932.0   534791.0   805015.0  1054017.0  1463133.0   1652409.0  \n"
          ]
        }
      ]
    },
    {
      "cell_type": "code",
      "source": [
        "#order by 2023 column to set which 5 countries have the highest % availability in 2023 but for Rural areas only\n",
        "#show top five only\n",
        "#filter to get total rows only\n",
        "dfEuropeCleanFTTPRural = fn_filter_by_urclass(dfEuropeCleanFTTP, 'Rural')\n",
        "\n",
        "dfEuropeCleanFTTPRural = dfEuropeCleanFTTPRural.sort_values(by=['2023%'], ascending=False)\n",
        "print(dfEuropeCleanFTTPRural.iloc[0:5])\n"
      ],
      "metadata": {
        "id": "My-tAHJONvDA",
        "outputId": "dd33b3a7-c6fe-4d30-b3ea-eb61e9af584f",
        "colab": {
          "base_uri": "https://localhost:8080/"
        }
      },
      "id": "My-tAHJONvDA",
      "execution_count": 30,
      "outputs": [
        {
          "output_type": "stream",
          "name": "stdout",
          "text": [
            "          Country Metric URClass  2018%  2019%  2020%  2021%  2022%  2023%  \\\n",
            "1469      Romania   FTTP   Rural   30.1   39.1   55.6   75.7   90.1   92.5   \n",
            "1091      Denmark   FTTP   Rural   60.8   65.8   70.9   77.8   87.0   90.3   \n",
            "1532        Spain   FTTP   Rural   32.6   46.4   59.5   68.9   73.9   85.9   \n",
            "1238      Iceland   FTTP   Rural   39.4   54.7   66.3   78.4   78.7   83.9   \n",
            "1385  Netherlands   FTTP   Rural   22.7   26.4   27.2   54.5   76.4   78.4   \n",
            "\n",
            "         2018HH     2019HH     2020HH     2021HH     2022HH     2023HH  \n",
            "1469   473059.0   613199.0   873030.0  1188700.0  1413820.0  1451283.0  \n",
            "1091   178314.0   193084.0   207965.0   227507.0   254218.0   262890.0  \n",
            "1532  1073626.0  1512794.0  1850542.0  2109898.0  2260398.0  2623263.0  \n",
            "1238     3127.0     5459.0     6616.0     5493.0     4660.0     5081.0  \n",
            "1385    68127.0    82558.0    86650.0   173302.0   243072.0   250693.0  \n"
          ]
        }
      ]
    },
    {
      "cell_type": "code",
      "source": [
        "#order by 2023 column to set which 5 countries have the lowest % availability in 2023 but for Rural areas only\n",
        "#show bottom five only\n",
        "#filter to get total rows only\n",
        "dfEuropeCleanFTTPTotal = fn_filter_by_urclass(dfEuropeCleanFTTP, 'Rural')\n",
        "\n",
        "dfEuropeCleanFTTPTotal = dfEuropeCleanFTTPTotal.sort_values(by=['2023%'], ascending=True)\n",
        "print(dfEuropeCleanFTTPTotal.iloc[0:5])\n"
      ],
      "metadata": {
        "id": "2f9_qxjqN3ZA",
        "outputId": "1bd0aabe-3db0-4b4a-c8e5-5ac01adac35b",
        "colab": {
          "base_uri": "https://localhost:8080/"
        }
      },
      "id": "2f9_qxjqN3ZA",
      "execution_count": 31,
      "outputs": [
        {
          "output_type": "stream",
          "name": "stdout",
          "text": [
            "      Country Metric URClass  2018%  2019%  2020%  2021%  2022%  2023%  \\\n",
            "1196   Greece   FTTP   Rural    0.0    0.0    0.0    0.0    0.0    0.0   \n",
            "1070  Czechia   FTTP   Rural    5.6    5.9    6.4    6.9    8.1    7.2   \n",
            "986   Belgium   FTTP   Rural    0.0    0.1    0.4    0.7    1.3    7.3   \n",
            "1322   Latvia   FTTP   Rural    8.9    9.2   10.0   11.0   11.2   11.7   \n",
            "1364    Malta   FTTP   Rural    0.0    0.0    0.0    0.0    0.0   16.2   \n",
            "\n",
            "       2018HH   2019HH   2020HH   2021HH   2022HH   2023HH  \n",
            "1196      NaN      NaN     50.0      NaN      NaN      NaN  \n",
            "1070  35045.0  36621.0  40186.0  43098.0  48097.0  67394.0  \n",
            "986      59.0    299.0    788.0   1861.0   3281.0  15133.0  \n",
            "1322  18606.0  19843.0  20518.0  20894.0  21274.0  22011.0  \n",
            "1364      NaN      NaN      NaN      NaN      NaN    179.0  \n"
          ]
        }
      ]
    },
    {
      "cell_type": "code",
      "source": [
        "#EUROPE-WIDE MEAN % AVAILABILITY IN 2023\n",
        "\n",
        "averageFTTP = round(dfEuropeCleanFTTPTotalDropEU['2023%'].mean(),2)\n",
        "print('Mean FTTP availability (%) in 2023 : ',\n",
        "averageFTTP, '%')"
      ],
      "metadata": {
        "id": "DRqiSWtmOAFo",
        "outputId": "9f2a0318-20a9-41b8-abab-1fb9dfe32932",
        "colab": {
          "base_uri": "https://localhost:8080/"
        }
      },
      "id": "DRqiSWtmOAFo",
      "execution_count": 32,
      "outputs": [
        {
          "output_type": "stream",
          "name": "stdout",
          "text": [
            "Mean FTTP availability (%) in 2023 :  69.1 %\n"
          ]
        }
      ]
    },
    {
      "cell_type": "code",
      "source": [
        "#highest growth between 2019 and 2023\n",
        "#filter to get total rows only\n",
        "dfEuropeCleanFTTPTotal = fn_filter_by_urclass(dfEuropeCleanFTTP, 'Total')\n",
        "#create a new column for each row which is the percentage growth betwen 2019 and 2023\n",
        "#this is calculated as:\n",
        "#(2023 avail % - 2019 avail %) to give us the difference\n",
        "# then calculate that difference as a percentage of the original figure\n",
        "\n",
        "#NB some rows have 0 % availability. If this is the case, set it to 0.1 to allow caclulation to be done\n",
        "#if value is 0 then set it to 0.1\n",
        "dfEuropeCleanFTTPTotal['2019%'] = dfEuropeCleanFTTPTotal['2019%'].replace(0, 0.1)\n",
        "results_df = dfEuropeCleanFTTPTotal\n",
        "results_df['5 year Growth (%)'] = round(((results_df['2023%']-results_df['2019%'])/results_df['2019%'])*100,2)\n",
        "\n",
        "#results_final_df = pd.DataFrame(results_df['Country'],['5 year Growth'],['2019'],['2023'])\n",
        "#results_final_df = results_final_df.sort_values(by=['5 year Growth'], ascending=False)\n",
        "final_results_df = results_df.filter(['Country','5 year Growth (%)','2019%','2023%'])\n",
        "final_results_df = final_results_df.sort_values(by=['5 year Growth (%)'], ascending=False)\n",
        "print(\"Highest growth\")\n",
        "print(final_results_df.iloc[0:5])\n",
        "final_results_df = final_results_df.sort_values(by=['5 year Growth (%)'], ascending=True)\n",
        "print(\"Lowest growth\")\n",
        "print(final_results_df.iloc[0:5])\n"
      ],
      "metadata": {
        "id": "URrlOXuyPk1t",
        "outputId": "ee0c0b32-3b7d-4ec7-cb0e-967253bac657",
        "colab": {
          "base_uri": "https://localhost:8080/"
        }
      },
      "id": "URrlOXuyPk1t",
      "execution_count": 36,
      "outputs": [
        {
          "output_type": "stream",
          "name": "stdout",
          "text": [
            "Highest growth\n",
            "            Country  5 year Growth (%)  2019%  2023%\n",
            "131          Cyprus             663.37   10.1   77.1\n",
            "44          Belgium             594.44    3.6   25.0\n",
            "885  United Kingdom             507.06    8.5   51.6\n",
            "334          Greece             440.85    7.1   38.4\n",
            "15          Austria             197.10   13.8   41.0\n",
            "Lowest growth\n",
            "        Country  5 year Growth (%)  2019%  2023%\n",
            "508      Latvia               6.17   58.3   61.9\n",
            "827      Sweden               8.82   77.1   83.9\n",
            "392     Iceland              13.18   80.4   91.0\n",
            "537  Luxembourg              16.89   67.5   78.9\n",
            "798       Spain              18.41   80.4   95.2\n"
          ]
        },
        {
          "output_type": "stream",
          "name": "stderr",
          "text": [
            "<ipython-input-36-f4f51c3ae59e>:11: SettingWithCopyWarning: \n",
            "A value is trying to be set on a copy of a slice from a DataFrame.\n",
            "Try using .loc[row_indexer,col_indexer] = value instead\n",
            "\n",
            "See the caveats in the documentation: https://pandas.pydata.org/pandas-docs/stable/user_guide/indexing.html#returning-a-view-versus-a-copy\n",
            "  dfEuropeCleanFTTPTotal['2019%'] = dfEuropeCleanFTTPTotal['2019%'].replace(0, 0.1)\n",
            "<ipython-input-36-f4f51c3ae59e>:13: SettingWithCopyWarning: \n",
            "A value is trying to be set on a copy of a slice from a DataFrame.\n",
            "Try using .loc[row_indexer,col_indexer] = value instead\n",
            "\n",
            "See the caveats in the documentation: https://pandas.pydata.org/pandas-docs/stable/user_guide/indexing.html#returning-a-view-versus-a-copy\n",
            "  results_df['5 year Growth (%)'] = round(((results_df['2023%']-results_df['2019%'])/results_df['2019%'])*100,2)\n"
          ]
        }
      ]
    }
  ],
  "metadata": {
    "kernelspec": {
      "display_name": "Python 3 (ipykernel)",
      "language": "python",
      "name": "python3"
    },
    "language_info": {
      "codemirror_mode": {
        "name": "ipython",
        "version": 3
      },
      "file_extension": ".py",
      "mimetype": "text/x-python",
      "name": "python",
      "nbconvert_exporter": "python",
      "pygments_lexer": "ipython3",
      "version": "3.12.6"
    },
    "colab": {
      "provenance": [],
      "include_colab_link": true
    }
  },
  "nbformat": 4,
  "nbformat_minor": 5
}