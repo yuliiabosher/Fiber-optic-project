{
  "cells": [
    {
      "cell_type": "markdown",
      "metadata": {
        "id": "view-in-github",
        "colab_type": "text"
      },
      "source": [
        "<a href=\"https://colab.research.google.com/github/yuliiabosher/Fiber-optic-project/blob/europe_stats_analysis/european_fibre_optic_data_clean_and_load.ipynb\" target=\"_parent\"><img src=\"https://colab.research.google.com/assets/colab-badge.svg\" alt=\"Open In Colab\"/></a>"
      ]
    },
    {
      "cell_type": "markdown",
      "source": [
        "##Fibre optic data - European statistical data.\n",
        "Load data and clean\n",
        "\n",
        "This notebook contains code to load data provided by the European Commission about broadband connectivity and availability in 27 EU states and the UK. The data will be used to compare fibre optic coverage in the UK with that in key european countries. The data covers several years and also provides a split between rural and urban areas.\n",
        "\n",
        "After loading the data, there is code to show some high level summative and descriptive stats\n",
        "\n",
        "Finally there is a function that calculates year on year growth using the yearly % figures"
      ],
      "metadata": {
        "id": "4euUpZu2iUDS"
      },
      "id": "4euUpZu2iUDS"
    },
    {
      "cell_type": "markdown",
      "source": [
        "Read the data files - location of the files should be updated based on your environment EC Broadband coverage in Europe data file available from https://digital-strategy.ec.europa.eu/en/library/digital-decade-2024-broadband-coverage-europe-2023\n",
        "\n",
        "Code checks files exist in specified location\n",
        "\n",
        "NB - currently I have downloaded the excel spreadsheet from the link above and saved the last 2 sheets as csv files\n",
        "\n",
        "sheet **data** - save as EUROPE_FIBRE_HH\n",
        "\n",
        "sheet **data%** - save as EUROPE_FIBRE"
      ],
      "metadata": {
        "id": "F7vq41OiilNF"
      },
      "id": "F7vq41OiilNF"
    },
    {
      "cell_type": "code",
      "execution_count": 37,
      "id": "6b87e41d-d4ea-4c81-98f5-7ba01944dedd",
      "metadata": {
        "colab": {
          "base_uri": "https://localhost:8080/"
        },
        "id": "6b87e41d-d4ea-4c81-98f5-7ba01944dedd",
        "outputId": "d27fe628-ddc7-459a-f79c-50baf1f312d4"
      },
      "outputs": [
        {
          "output_type": "stream",
          "name": "stdout",
          "text": [
            "Drive already mounted at /content/drive; to attempt to forcibly remount, call drive.mount(\"/content/drive\", force_remount=True).\n",
            "Reading Europe fibre data.....\n",
            "Europe fibre file data shape: (1650, 16)\n",
            "Reading Europe fibre data (households).....\n",
            "Europe fibre file data (households) shape: (1650, 15)\n"
          ]
        }
      ],
      "source": [
        "# Import and alias the necessary libraries\n",
        "import pandas as pd\n",
        "import os.path\n",
        "import errno\n",
        "\n",
        "#mount google drive\n",
        "from google.colab import drive\n",
        "drive.mount('/content/drive')\n",
        "\n",
        "#############\n",
        "# EC broadband data file available from https://digital-strategy.ec.europa.eu/en/library/digital-decade-2024-broadband-coverage-europe-2023\n",
        "# save the last sheet in the spreadsheet as .csv and name EUROPE_FIBRE.csv\n",
        "# This path should be set to the location of the file\n",
        "#############\n",
        "fileEuropeData = '/content/drive/MyDrive/Colab/EUROPE_FIBRE.csv'\n",
        "fileEuropeHouseholds = '/content/drive/MyDrive/Colab/EUROPE_FIBRE_HH.csv'\n",
        "\n",
        "#fileEuropeData = 'd:/Users/Sharon/Documents/College/data/EUROPE_FIBRE.csv'\n",
        "#fileEuropeHouseholds = 'd:/Users/Sharon/Documents/College/data/EUROPE_FIBRE_HH.csv'\n",
        "#############\n",
        "# Check we can find the file required, and read it into a pandas dataframe\n",
        "# show the shape of the dataframe\n",
        "#############\n",
        "if os.path.exists(fileEuropeData) :\n",
        "    print(\"Reading Europe fibre data.....\")\n",
        "    dfEurope = pd.read_csv(fileEuropeData)\n",
        "else:\n",
        "    raise FileNotFoundError(errno.ENOENT, os.strerror(errno.ENOENT), fileEuropeData)\n",
        "print(\"Europe fibre file data shape:\", dfEurope.shape)\n",
        "\n",
        "if os.path.exists(fileEuropeHouseholds) :\n",
        "    print(\"Reading Europe fibre data (households).....\")\n",
        "    dfEuropeHH = pd.read_csv(fileEuropeHouseholds)\n",
        "else:\n",
        "    raise FileNotFoundError(errno.ENOENT, os.strerror(errno.ENOENT), fileEuropeHouseholds)\n",
        "print(\"Europe fibre file data (households) shape:\", dfEuropeHH.shape)"
      ]
    },
    {
      "cell_type": "markdown",
      "source": [
        "The data fields holding the values for each year require some cleaning.\n",
        "\n",
        "This is done for both dataframes -\n",
        "dfEurope and dfEuropeHH\n",
        "\n",
        "1. The % and absolute values are loaded as strings because they contain commas and % signs. There are also some dashes (-) and spaces.\n",
        "2. The column called Geography level is renamed to URClass to reflect Urban/Rural values\n",
        "\n",
        "The resulting cleaned dataframes are named\n",
        "\n",
        "dfEuropeClean\n",
        "\n",
        "dfEuropeCleanHH"
      ],
      "metadata": {
        "id": "SYROMaZ2jR5R"
      },
      "id": "SYROMaZ2jR5R"
    },
    {
      "cell_type": "code",
      "execution_count": 38,
      "id": "a87511e9-bb65-4fbf-ac7d-c8718224c38e",
      "metadata": {
        "id": "a87511e9-bb65-4fbf-ac7d-c8718224c38e"
      },
      "outputs": [],
      "source": [
        "###DEFINE FUNCTIONS FOR CLEANING THE FILE\n",
        "#fn_clean_years removed % sign and changes datatype to float\n",
        "#fn_change_col_name will change any column name in any dataframe\n",
        "\n",
        "\n",
        "def fn_clean_years(thisdf, thiscol):\n",
        "  #check column is still a string\n",
        "  if thisdf[thiscol].dtype == 'object':\n",
        "    #check for dashes -\n",
        "    thisdf[thiscol] = thisdf[thiscol].str.replace('-', '')\n",
        "    #convert the yearly value to a float - first remove the % sign\n",
        "    thisdf[thiscol] = thisdf[thiscol].str.replace('%', '')#.astype(float)\n",
        "    #check if there's a comma and remove those\n",
        "    thisdf[thiscol] = thisdf[thiscol].str.replace(',', '')#.astype(float)\n",
        "    #check for blanks\n",
        "    thisdf[thiscol] = thisdf[thiscol].str.replace(' ', '')#.astype(float)\n",
        "    #finally replace empty strings with None\n",
        "    thisdf[thiscol] = thisdf[thiscol].replace('', None)\n",
        "    #now change the datatype of the column\n",
        "    #thisdf.astype({thiscol: 'float'}).dtypes\n",
        "    thisdf[thiscol] = thisdf[thiscol].astype(float)\n",
        "  return thisdf\n",
        "\n",
        "def fn_change_col_name(thisdf, oldname, newname):\n",
        "  #change the name of the geography column to URClass\n",
        "  thisdf.rename(columns={oldname: newname}, inplace=True)\n",
        "  return thisdf"
      ]
    },
    {
      "cell_type": "code",
      "execution_count": 39,
      "id": "cd03ef69-4df0-431e-b70b-7cef9b76b6f1",
      "metadata": {
        "colab": {
          "base_uri": "https://localhost:8080/"
        },
        "id": "cd03ef69-4df0-431e-b70b-7cef9b76b6f1",
        "outputId": "513fd4a2-610b-40fb-f07f-a31b5b901a74"
      },
      "outputs": [
        {
          "output_type": "stream",
          "name": "stdout",
          "text": [
            "   Country                        Metric URClass             Unit  \\\n",
            "0  Austria                     Land area   Total       km squared   \n",
            "1  Austria                    Population   Total              ###   \n",
            "2  Austria                    Households   Total              ###   \n",
            "3  Austria   Broadband coverage (>2Mbps)   Total  % of Households   \n",
            "4  Austria  Broadband coverage (>30Mbps)   Total  % of Households   \n",
            "\n",
            "           2013          2014          2015          2016          2017  \\\n",
            "0    8387900.0%    8387900.0%    8387900.0%    8387900.0%    8387900.0%   \n",
            "1  844301800.0%  845186000.0%  850688900.0%  857626100.0%  869007600.0%   \n",
            "2  367087600.0%  373890627.2%  381326121.0%  385514998.2%  390333256.0%   \n",
            "3         98.6%         98.4%         98.0%         98.1%         97.9%   \n",
            "4         55.6%         60.3%         65.2%         67.3%         71.3%   \n",
            "\n",
            "          2018         2019         2020         2021         2022  \\\n",
            "0    8387900.0    8387900.0    8387900.0    8392700.0    8392700.0   \n",
            "1  877286500.0  885877500.0  890106400.0  893266400.0  897892900.0   \n",
            "2  393553380.2  388331200.0  391892900.0  395914300.0  399505000.0   \n",
            "3         98.1         98.2         98.6          NaN          NaN   \n",
            "4         72.4         78.8         86.6         93.3         94.8   \n",
            "\n",
            "          2023 Unnamed: 15  \n",
            "0    8392700.0         NaN  \n",
            "1  910477200.0         NaN  \n",
            "2  403308000.0         NaN  \n",
            "3          NaN         NaN  \n",
            "4         94.2         NaN  \n",
            "   Country                        Metric URClass        Unit          2013  \\\n",
            "0  Austria                     Land area   Total  km squared       83,879    \n",
            "1  Austria                    Population   Total         ###    8,443,018    \n",
            "2  Austria                    Households   Total         ###    3,670,876    \n",
            "3  Austria   Broadband coverage (>2Mbps)   Total  Households    3,619,912    \n",
            "4  Austria  Broadband coverage (>30Mbps)   Total  Households    2,040,840    \n",
            "\n",
            "           2014          2015          2016          2017       2018  \\\n",
            "0       83,879        83,879        83,879        83,879     83879.0   \n",
            "1    8,451,860     8,506,889     8,576,261     8,690,076   8772865.0   \n",
            "2    3,738,906     3,813,261     3,855,150     3,903,333   3935534.0   \n",
            "3    3,679,471     3,736,996     3,781,362     3,822,764   3858862.0   \n",
            "4    2,253,339     2,484,992     2,594,044     2,782,689   2847375.0   \n",
            "\n",
            "        2019       2020       2021       2022       2023  \n",
            "0    83879.0    83879.0    83927.0    83927.0    83927.0  \n",
            "1  8858775.0  8901064.0  8932664.0  8978929.0  9104772.0  \n",
            "2  3883312.0  3918929.0  3959143.0  3995050.0  4033080.0  \n",
            "3  3813412.0  3863423.0        NaN        NaN        NaN  \n",
            "4  3058873.0  3394576.0  3694166.0  3787714.0  3797226.0  \n"
          ]
        }
      ],
      "source": [
        "#clean and prepare data\n",
        "#we need to rename the Geography level URClass cos it didn't seemto like the space in the name\n",
        "#then for each of the year columns strip the % sign from the value and change it from a string to a float\n",
        "dfEuropeClean = fn_change_col_name(dfEurope, 'Geography level', 'URClass')\n",
        "dfEuropeClean = fn_clean_years(dfEuropeClean, '2023')\n",
        "dfEuropeClean = fn_clean_years(dfEuropeClean, '2022')\n",
        "dfEuropeClean = fn_clean_years(dfEuropeClean, '2021')\n",
        "dfEuropeClean = fn_clean_years(dfEuropeClean, '2020')\n",
        "dfEuropeClean = fn_clean_years(dfEuropeClean, '2019')\n",
        "dfEuropeClean = fn_clean_years(dfEuropeClean, '2018')\n",
        "print(dfEuropeClean.head())\n",
        "\n",
        "#now do the same for the households data\n",
        "#in this case, we need to strip a , from the year columns and change it to a float\n",
        "dfEuropeCleanHH = fn_change_col_name(dfEuropeHH, 'Geography level', 'URClass')\n",
        "dfEuropeCleanHH = fn_clean_years(dfEuropeCleanHH, '2023')\n",
        "dfEuropeCleanHH = fn_clean_years(dfEuropeCleanHH, '2022')\n",
        "dfEuropeCleanHH = fn_clean_years(dfEuropeCleanHH, '2021')\n",
        "dfEuropeCleanHH = fn_clean_years(dfEuropeCleanHH, '2020')\n",
        "dfEuropeCleanHH = fn_clean_years(dfEuropeCleanHH, '2019')\n",
        "dfEuropeCleanHH = fn_clean_years(dfEuropeCleanHH, '2018')\n",
        "print(dfEuropeCleanHH.head())"
      ]
    },
    {
      "cell_type": "markdown",
      "source": [
        "Reduce the columns to just show those for 2018 onwards, as well as the country, the metric(FTTP etc) and the URClass (Rural or Total)"
      ],
      "metadata": {
        "id": "Q0Rgoux1kl1G"
      },
      "id": "Q0Rgoux1kl1G"
    },
    {
      "cell_type": "code",
      "execution_count": 40,
      "id": "f0cb2400-4a10-4635-9d10-dc82ad55c614",
      "metadata": {
        "colab": {
          "base_uri": "https://localhost:8080/"
        },
        "id": "f0cb2400-4a10-4635-9d10-dc82ad55c614",
        "outputId": "58239e6b-17c8-400b-ee7d-b99a732f1b31"
      },
      "outputs": [
        {
          "output_type": "stream",
          "name": "stdout",
          "text": [
            "   Country                        Metric URClass         2018         2019  \\\n",
            "0  Austria                     Land area   Total    8387900.0    8387900.0   \n",
            "1  Austria                    Population   Total  877286500.0  885877500.0   \n",
            "2  Austria                    Households   Total  393553380.2  388331200.0   \n",
            "3  Austria   Broadband coverage (>2Mbps)   Total         98.1         98.2   \n",
            "4  Austria  Broadband coverage (>30Mbps)   Total         72.4         78.8   \n",
            "\n",
            "          2020         2021         2022         2023  \n",
            "0    8387900.0    8392700.0    8392700.0    8392700.0  \n",
            "1  890106400.0  893266400.0  897892900.0  910477200.0  \n",
            "2  391892900.0  395914300.0  399505000.0  403308000.0  \n",
            "3         98.6          NaN          NaN          NaN  \n",
            "4         86.6         93.3         94.8         94.2  \n",
            "   Country                        Metric URClass       2018       2019  \\\n",
            "0  Austria                     Land area   Total    83879.0    83879.0   \n",
            "1  Austria                    Population   Total  8772865.0  8858775.0   \n",
            "2  Austria                    Households   Total  3935534.0  3883312.0   \n",
            "3  Austria   Broadband coverage (>2Mbps)   Total  3858862.0  3813412.0   \n",
            "4  Austria  Broadband coverage (>30Mbps)   Total  2847375.0  3058873.0   \n",
            "\n",
            "        2020       2021       2022       2023  \n",
            "0    83879.0    83927.0    83927.0    83927.0  \n",
            "1  8901064.0  8932664.0  8978929.0  9104772.0  \n",
            "2  3918929.0  3959143.0  3995050.0  4033080.0  \n",
            "3  3863423.0        NaN        NaN        NaN  \n",
            "4  3394576.0  3694166.0  3787714.0  3797226.0  \n"
          ]
        }
      ],
      "source": [
        "europeCols = ['Country','Metric','URClass','2018','2019','2020','2021','2022','2023']\n",
        "dfEuropeClean = dfEuropeClean[europeCols]\n",
        "print(dfEuropeClean.head())\n",
        "\n",
        "europeHHCols = ['Country','Metric','URClass','2018','2019','2020','2021','2022','2023']\n",
        "dfEuropeCleanHH = dfEuropeCleanHH[europeCols]\n",
        "print(dfEuropeCleanHH.head())"
      ]
    },
    {
      "cell_type": "markdown",
      "source": [
        "Now rename the value fields in each dataset so when merged they have sensible names\n",
        "\n",
        "in the percentage dataframe\n",
        "2018 becomes 2018% etc\n",
        "\n",
        "in the no of households dataframe\n",
        "2018 becomes 2018HH etc\n",
        "\n",
        "Then merge the two dataframes on Country/Metric/URClass"
      ],
      "metadata": {
        "id": "LcJ_R1u7k2Bz"
      },
      "id": "LcJ_R1u7k2Bz"
    },
    {
      "cell_type": "code",
      "execution_count": 41,
      "id": "7b6a4db9-a345-40ac-a8af-dfb9a1ea654e",
      "metadata": {
        "colab": {
          "base_uri": "https://localhost:8080/"
        },
        "id": "7b6a4db9-a345-40ac-a8af-dfb9a1ea654e",
        "outputId": "f279a9aa-1e53-4e7d-f39c-94c69afc41f8"
      },
      "outputs": [
        {
          "output_type": "stream",
          "name": "stderr",
          "text": [
            "<ipython-input-38-5281cde9183b>:26: SettingWithCopyWarning: \n",
            "A value is trying to be set on a copy of a slice from a DataFrame\n",
            "\n",
            "See the caveats in the documentation: https://pandas.pydata.org/pandas-docs/stable/user_guide/indexing.html#returning-a-view-versus-a-copy\n",
            "  thisdf.rename(columns={oldname: newname}, inplace=True)\n"
          ]
        }
      ],
      "source": [
        "#rename year columns in each dataset\n",
        "dfEuropeClean = fn_change_col_name(dfEuropeClean, '2018', '2018%')\n",
        "dfEuropeClean = fn_change_col_name(dfEuropeClean, '2019', '2019%')\n",
        "dfEuropeClean = fn_change_col_name(dfEuropeClean, '2020', '2020%')\n",
        "dfEuropeClean = fn_change_col_name(dfEuropeClean, '2021', '2021%')\n",
        "dfEuropeClean = fn_change_col_name(dfEuropeClean, '2022', '2022%')\n",
        "dfEuropeClean = fn_change_col_name(dfEuropeClean, '2023', '2023%')\n",
        "\n",
        "dfEuropeCleanHH = fn_change_col_name(dfEuropeCleanHH, '2018', '2018HH')\n",
        "dfEuropeCleanHH = fn_change_col_name(dfEuropeCleanHH, '2019', '2019HH')\n",
        "dfEuropeCleanHH = fn_change_col_name(dfEuropeCleanHH, '2020', '2020HH')\n",
        "dfEuropeCleanHH = fn_change_col_name(dfEuropeCleanHH, '2021', '2021HH')\n",
        "dfEuropeCleanHH = fn_change_col_name(dfEuropeCleanHH, '2022', '2022HH')\n",
        "dfEuropeCleanHH = fn_change_col_name(dfEuropeCleanHH, '2023', '2023HH')\n",
        "\n",
        "##merge the two datasets\n",
        "colslist = ['Country', 'Metric','URClass']\n",
        "dfFinal = pd.merge(dfEuropeClean,dfEuropeCleanHH,on=colslist, how='inner')\n",
        "\n"
      ]
    },
    {
      "cell_type": "markdown",
      "source": [
        "Finally, lets only return those rows for the metric FTTP - this means we will have only values for fibre to the premises availability\n",
        "\n",
        "The resulting dataframe dfEuropeCleanFTTP, has the following structure\n",
        "\n",
        "Country - name of the country\n",
        "\n",
        "Metric - now always FTTP\n",
        "\n",
        "URClass - Total (ie rural and urban) or Rural\n",
        "\n",
        "2018% - percentage of households with access to FTTP in 2018\n",
        "\n",
        "2018HH - absolute number of households with access to FTTP in 2018\n",
        "\n",
        "2019% - percentage of households with access to FTTP in 2019\n",
        "\n",
        "2019HH - absolute number of households with access to FTTP in 2019\n",
        "\n",
        "2020% - percentage of households with access to FTTP in 2020\n",
        "\n",
        "2020HH - absolute number of households with access to FTTP in 2020\n",
        "\n",
        "2021% - percentage of households with access to FTTP in 2021\n",
        "\n",
        "2021HH - absolute number of households with access to FTTP in 2021\n",
        "\n",
        "2022% - percentage of households with access to FTTP in 2022\n",
        "\n",
        "2022HH - absolute number of households with access to FTTP in 2022\n",
        "\n",
        "2023% - percentage of households with access to FTTP in 2023\n",
        "\n",
        "2023HH - absolute number of households with access to FTTP in 2023\n",
        "\n"
      ],
      "metadata": {
        "id": "mzuZVRZQlTMA"
      },
      "id": "mzuZVRZQlTMA"
    },
    {
      "cell_type": "code",
      "execution_count": 42,
      "id": "8a6de3a6-f612-462f-8324-155b8f336890",
      "metadata": {
        "id": "8a6de3a6-f612-462f-8324-155b8f336890"
      },
      "outputs": [],
      "source": [
        "###DEFINE FUNCTION TO FILTER DATASET BY METRIC\n",
        "\n",
        "def fn_filter_by_metric(thisdf, thismetric):\n",
        "  #return a new dataset which only contains specified metric\n",
        "  return thisdf.query('Metric == \"' + thismetric + '\"')\n",
        "\n",
        "#now run this function to get only those rows where Metric = FTTP\n",
        "#this will give us all the rows for full fibre availability\n",
        "dfEuropeCleanFTTP = fn_filter_by_metric(dfFinal, 'FTTP')\n",
        "dfEuropeCleanFTTP.head()\n",
        "\n",
        "#drop summary rows so only the countries are left\n",
        "dfEuropeCleanFTTPTotalDropEU = dfEuropeCleanFTTPTotal.drop(dfEuropeCleanFTTPTotal[dfEuropeCleanFTTPTotal['Country'] == 'EU27'].index)\n",
        "dfEuropeCleanFTTPTotalDropEU = dfEuropeCleanFTTPTotalDropEU.drop(dfEuropeCleanFTTPTotal[dfEuropeCleanFTTPTotal['Country'] == 'EU28'].index)\n"
      ]
    },
    {
      "cell_type": "markdown",
      "source": [
        "Now we need to get some summative and descriptive numbers\n",
        "for the countries\n",
        "- top 5 countries in 2023 for availability % (urban and rural)\n",
        "- bottom 5 countries in 2023 for availability % (urban and rural)\n",
        "\n",
        "\n",
        "- top 5 countries in 2023 for availability % (rural only)\n",
        "- bottom 5 countries in 2023 for availability % (rural only)\n",
        "\n",
        "\n",
        "-  5 countries with highest growth in availability % in last 5 years (urban and rural)\n",
        "-  5 countries with lowest  growth in availability % in last 5 years (urban and rural)\n"
      ],
      "metadata": {
        "id": "zCM1dtPBMxrj"
      },
      "id": "zCM1dtPBMxrj"
    },
    {
      "cell_type": "code",
      "source": [
        "##############################################################\n",
        "#INITIAL ANALYSIS###############################\n",
        "##############################################################\n",
        "\n",
        "####Funtion to filter dataset by URClass\n",
        "\n",
        "def fn_filter_by_urclass(thisdf, thisUrclass):\n",
        "  #return a new dataset which only contains specified URClass\n",
        "  return thisdf.query('URClass == \"' + thisUrclass + '\"')\n",
        "\n",
        "####Funtion to filter dataset by country\n",
        "def fn_filter_by_country(thisdf, thiscountry):\n",
        "  #return a new dataset which only contains specified country\n",
        "  return thisdf.query('Country == \"' + thiscountry + '\"')\n",
        "\n"
      ],
      "metadata": {
        "id": "o988Lt5VNUz8"
      },
      "id": "o988Lt5VNUz8",
      "execution_count": 43,
      "outputs": []
    },
    {
      "cell_type": "code",
      "execution_count": 44,
      "id": "9c257efe-8746-4072-a441-e3d16387828f",
      "metadata": {
        "id": "9c257efe-8746-4072-a441-e3d16387828f",
        "outputId": "3530f671-2522-472b-cd75-f49956eb7439",
        "colab": {
          "base_uri": "https://localhost:8080/"
        }
      },
      "outputs": [
        {
          "output_type": "stream",
          "name": "stdout",
          "text": [
            "      Country Metric URClass  2018%  2019%  2020%  2021%  2022%  2023%  \\\n",
            "798     Spain   FTTP   Total   77.4   80.4   84.9   88.9   91.0   95.2   \n",
            "711   Romania   FTTP   Total   62.7   68.1   75.9   87.1   95.6   95.0   \n",
            "682  Portugal   FTTP   Total   70.2   76.6   82.3   87.6   90.8   92.3   \n",
            "392   Iceland   FTTP   Total   76.2   80.4   83.5   87.6   88.2   91.0   \n",
            "73   Bulgaria   FTTP   Total   54.2   65.2   75.2   81.4   85.6   88.6   \n",
            "\n",
            "         2018HH      2019HH      2020HH      2021HH      2022HH      2023HH  \n",
            "798  13907642.0  14487413.0  15442337.0  16304471.0  16710576.0  17492229.0  \n",
            "711   4694397.0   5098126.0   5681433.0   6515089.0   7150980.0   7106377.0  \n",
            "682   2850981.0   3100505.0   3319290.0   3540247.0   3668679.0   3749559.0  \n",
            "392    100829.0    114011.0    118376.0    122084.0    120464.0    126890.0  \n",
            "73    1589576.0   1877295.0   2173209.0   2345497.0   2439632.0   2484082.0  \n",
            "            Country Metric URClass  2018%  2019%  2020%  2021%  2022%  2023%  \\\n",
            "943            EU28   FTTP   Total   29.1   33.6   38.9   46.3   53.7   62.4   \n",
            "914            EU27   FTTP   Total   33.2   37.7   42.9   49.8   56.4   64.0   \n",
            "276          France   FTTP   Total   37.8   43.8   52.6   63.4   73.4   81.4   \n",
            "798           Spain   FTTP   Total   77.4   80.4   84.9   88.9   91.0   95.2   \n",
            "885  United Kingdom   FTTP   Total    3.8    8.5   14.5   23.3   36.3   51.6   \n",
            "\n",
            "         2018HH      2019HH      2020HH       2021HH       2022HH       2023HH  \n",
            "943  64822795.0  75010886.0  86821299.0  102477771.0  118662066.0  138570638.0  \n",
            "914  63634007.0  72356227.0  82254741.0   95686049.0  107869253.0  123319547.0  \n",
            "276  11461009.0  12618827.0  15249003.0   18319605.0   21319922.0   23714522.0  \n",
            "798  13907642.0  14487413.0  15442337.0   16304471.0   16710576.0   17492229.0  \n",
            "885   1188788.0   2654659.0   4566558.0    6791722.0   10792813.0   15251091.0  \n"
          ]
        }
      ],
      "source": [
        "\n",
        "#order by 2023% column to set which 5 countries have the highest % availability in 2023\n",
        "#show top five only\n",
        "#filter to get total rows only\n",
        "dfEuropeCleanFTTPTotal = fn_filter_by_urclass(dfEuropeCleanFTTP, 'Total')\n",
        "\n",
        "dfEuropeCleanFTTPTotal = dfEuropeCleanFTTPTotal.sort_values(by=['2023%'], ascending=False)\n",
        "print(dfEuropeCleanFTTPTotal.iloc[0:5])\n",
        "\n",
        "#now show those with the largest amount of population with access to FTTP\n",
        "dfEuropeCleanFTTPTotal = dfEuropeCleanFTTPTotal.sort_values(by=['2023HH'], ascending=False)\n",
        "print(dfEuropeCleanFTTPTotal.iloc[0:5])"
      ]
    },
    {
      "cell_type": "code",
      "source": [
        "#order by 2023 column to set which 5 countries have the lowest % availability\n",
        "#show bottom five only\n",
        "#filter to get total rows only\n",
        "dfEuropeCleanFTTPTotal = fn_filter_by_urclass(dfEuropeCleanFTTP, 'Total')\n",
        "\n",
        "dfEuropeCleanFTTPTotal = dfEuropeCleanFTTPTotal.sort_values(by=['2023%'], ascending=True)\n",
        "print(dfEuropeCleanFTTPTotal.iloc[0:5])\n"
      ],
      "metadata": {
        "id": "IuPh4WuYNntV",
        "outputId": "da173779-959e-4457-a130-1b91a7c81346",
        "colab": {
          "base_uri": "https://localhost:8080/"
        }
      },
      "id": "IuPh4WuYNntV",
      "execution_count": 45,
      "outputs": [
        {
          "output_type": "stream",
          "name": "stdout",
          "text": [
            "     Country Metric URClass  2018%  2019%  2020%  2021%  2022%  2023%  \\\n",
            "44   Belgium   FTTP   Total    1.4    3.6    6.5   10.1   17.2   25.0   \n",
            "305  Germany   FTTP   Total    8.5   10.5   13.8   15.4   19.3   29.8   \n",
            "160  Czechia   FTTP   Total   28.3   29.3   33.3   35.8   37.4   36.0   \n",
            "334   Greece   FTTP   Total    0.4    7.1   10.2   19.8   27.8   38.4   \n",
            "15   Austria   FTTP   Total   13.0   13.8   20.5   26.6   36.6   41.0   \n",
            "\n",
            "        2018HH     2019HH     2020HH     2021HH     2022HH      2023HH  \n",
            "44     68689.0   174923.0   309472.0   503257.0   861948.0   1204619.0  \n",
            "305  3463230.0  4351459.0  5731176.0  6425303.0  7975905.0  12325987.0  \n",
            "160  1247049.0  1296949.0  1405288.0  1515831.0  1587877.0   1734901.0  \n",
            "334    16624.0   303044.0   436289.0   849460.0  1189474.0   1606944.0  \n",
            "15    512932.0   534791.0   805015.0  1054017.0  1463133.0   1652409.0  \n"
          ]
        }
      ]
    },
    {
      "cell_type": "code",
      "source": [
        "#order by 2023 column to set which 5 countries have the highest % availability in 2023 but for Rural areas only\n",
        "#show top five only\n",
        "#filter to get total rows only\n",
        "dfEuropeCleanFTTPRural = fn_filter_by_urclass(dfEuropeCleanFTTP, 'Rural')\n",
        "\n",
        "dfEuropeCleanFTTPRural = dfEuropeCleanFTTPRural.sort_values(by=['2023%'], ascending=False)\n",
        "print(dfEuropeCleanFTTPRural.iloc[0:5])\n"
      ],
      "metadata": {
        "id": "My-tAHJONvDA",
        "outputId": "23220bc4-6e08-4148-9a6e-6ea261adfdc1",
        "colab": {
          "base_uri": "https://localhost:8080/"
        }
      },
      "id": "My-tAHJONvDA",
      "execution_count": 46,
      "outputs": [
        {
          "output_type": "stream",
          "name": "stdout",
          "text": [
            "          Country Metric URClass  2018%  2019%  2020%  2021%  2022%  2023%  \\\n",
            "1469      Romania   FTTP   Rural   30.1   39.1   55.6   75.7   90.1   92.5   \n",
            "1091      Denmark   FTTP   Rural   60.8   65.8   70.9   77.8   87.0   90.3   \n",
            "1532        Spain   FTTP   Rural   32.6   46.4   59.5   68.9   73.9   85.9   \n",
            "1238      Iceland   FTTP   Rural   39.4   54.7   66.3   78.4   78.7   83.9   \n",
            "1385  Netherlands   FTTP   Rural   22.7   26.4   27.2   54.5   76.4   78.4   \n",
            "\n",
            "         2018HH     2019HH     2020HH     2021HH     2022HH     2023HH  \n",
            "1469   473059.0   613199.0   873030.0  1188700.0  1413820.0  1451283.0  \n",
            "1091   178314.0   193084.0   207965.0   227507.0   254218.0   262890.0  \n",
            "1532  1073626.0  1512794.0  1850542.0  2109898.0  2260398.0  2623263.0  \n",
            "1238     3127.0     5459.0     6616.0     5493.0     4660.0     5081.0  \n",
            "1385    68127.0    82558.0    86650.0   173302.0   243072.0   250693.0  \n"
          ]
        }
      ]
    },
    {
      "cell_type": "code",
      "source": [
        "#order by 2023 column to set which 5 countries have the lowest % availability in 2023 but for Rural areas only\n",
        "#show bottom five only\n",
        "#filter to get total rows only\n",
        "dfEuropeCleanFTTPTotal = fn_filter_by_urclass(dfEuropeCleanFTTP, 'Rural')\n",
        "\n",
        "dfEuropeCleanFTTPTotal = dfEuropeCleanFTTPTotal.sort_values(by=['2023%'], ascending=True)\n",
        "print(dfEuropeCleanFTTPTotal.iloc[0:5])\n"
      ],
      "metadata": {
        "id": "2f9_qxjqN3ZA",
        "outputId": "cc91621d-6182-4702-99b0-858b78683671",
        "colab": {
          "base_uri": "https://localhost:8080/"
        }
      },
      "id": "2f9_qxjqN3ZA",
      "execution_count": 47,
      "outputs": [
        {
          "output_type": "stream",
          "name": "stdout",
          "text": [
            "      Country Metric URClass  2018%  2019%  2020%  2021%  2022%  2023%  \\\n",
            "1196   Greece   FTTP   Rural    0.0    0.0    0.0    0.0    0.0    0.0   \n",
            "1070  Czechia   FTTP   Rural    5.6    5.9    6.4    6.9    8.1    7.2   \n",
            "986   Belgium   FTTP   Rural    0.0    0.1    0.4    0.7    1.3    7.3   \n",
            "1322   Latvia   FTTP   Rural    8.9    9.2   10.0   11.0   11.2   11.7   \n",
            "1364    Malta   FTTP   Rural    0.0    0.0    0.0    0.0    0.0   16.2   \n",
            "\n",
            "       2018HH   2019HH   2020HH   2021HH   2022HH   2023HH  \n",
            "1196      NaN      NaN     50.0      NaN      NaN      NaN  \n",
            "1070  35045.0  36621.0  40186.0  43098.0  48097.0  67394.0  \n",
            "986      59.0    299.0    788.0   1861.0   3281.0  15133.0  \n",
            "1322  18606.0  19843.0  20518.0  20894.0  21274.0  22011.0  \n",
            "1364      NaN      NaN      NaN      NaN      NaN    179.0  \n"
          ]
        }
      ]
    },
    {
      "cell_type": "code",
      "source": [
        "#EUROPE-WIDE MEAN % AVAILABILITY IN 2023\n",
        "\n",
        "averageFTTP = round(dfEuropeCleanFTTPTotalDropEU['2023%'].mean(),2)\n",
        "print('Mean FTTP availability (%) in 2023 : ',\n",
        "averageFTTP, '%')"
      ],
      "metadata": {
        "id": "DRqiSWtmOAFo",
        "outputId": "861c735f-3e2d-4193-9d2f-b12402fb86b7",
        "colab": {
          "base_uri": "https://localhost:8080/"
        }
      },
      "id": "DRqiSWtmOAFo",
      "execution_count": 48,
      "outputs": [
        {
          "output_type": "stream",
          "name": "stdout",
          "text": [
            "Mean FTTP availability (%) in 2023 :  69.1 %\n"
          ]
        }
      ]
    },
    {
      "cell_type": "code",
      "source": [
        "#highest growth between 2019 and 2023\n",
        "#filter to get total rows only\n",
        "dfEuropeCleanFTTPTotal = fn_filter_by_urclass(dfEuropeCleanFTTP, 'Total')\n",
        "#create a new column for each row which is the percentage growth betwen 2019 and 2023\n",
        "#this is calculated as:\n",
        "#(2023 avail % - 2019 avail %) to give us the difference\n",
        "# then calculate that difference as a percentage of the original figure\n",
        "\n",
        "#NB some rows have 0 % availability. If this is the case, set it to 0.1 to allow caclulation to be done\n",
        "#if value is 0 then set it to 0.1\n",
        "dfEuropeCleanFTTPTotal['2019%'] = dfEuropeCleanFTTPTotal['2019%'].replace(0, 0.1)\n",
        "results_df = dfEuropeCleanFTTPTotal\n",
        "results_df['5 year Growth (%)'] = round(((results_df['2023%']-results_df['2019%'])/results_df['2019%'])*100,2)\n",
        "\n",
        "#results_final_df = pd.DataFrame(results_df['Country'],['5 year Growth'],['2019'],['2023'])\n",
        "#results_final_df = results_final_df.sort_values(by=['5 year Growth'], ascending=False)\n",
        "final_results_df = results_df.filter(['Country','5 year Growth (%)','2019%','2023%'])\n",
        "final_results_df = final_results_df.sort_values(by=['5 year Growth (%)'], ascending=False)\n",
        "print(\"Highest growth\")\n",
        "print(final_results_df.iloc[0:5])\n",
        "final_results_df = final_results_df.sort_values(by=['5 year Growth (%)'], ascending=True)\n",
        "print(\"Lowest growth\")\n",
        "print(final_results_df.iloc[0:5])\n"
      ],
      "metadata": {
        "id": "URrlOXuyPk1t",
        "outputId": "33e48557-b44b-40ed-fef1-5163fcec6afb",
        "colab": {
          "base_uri": "https://localhost:8080/"
        }
      },
      "id": "URrlOXuyPk1t",
      "execution_count": 49,
      "outputs": [
        {
          "output_type": "stream",
          "name": "stdout",
          "text": [
            "Highest growth\n",
            "            Country  5 year Growth (%)  2019%  2023%\n",
            "131          Cyprus             663.37   10.1   77.1\n",
            "44          Belgium             594.44    3.6   25.0\n",
            "885  United Kingdom             507.06    8.5   51.6\n",
            "334          Greece             440.85    7.1   38.4\n",
            "15          Austria             197.10   13.8   41.0\n",
            "Lowest growth\n",
            "        Country  5 year Growth (%)  2019%  2023%\n",
            "508      Latvia               6.17   58.3   61.9\n",
            "827      Sweden               8.82   77.1   83.9\n",
            "392     Iceland              13.18   80.4   91.0\n",
            "537  Luxembourg              16.89   67.5   78.9\n",
            "798       Spain              18.41   80.4   95.2\n"
          ]
        },
        {
          "output_type": "stream",
          "name": "stderr",
          "text": [
            "<ipython-input-49-f4f51c3ae59e>:11: SettingWithCopyWarning: \n",
            "A value is trying to be set on a copy of a slice from a DataFrame.\n",
            "Try using .loc[row_indexer,col_indexer] = value instead\n",
            "\n",
            "See the caveats in the documentation: https://pandas.pydata.org/pandas-docs/stable/user_guide/indexing.html#returning-a-view-versus-a-copy\n",
            "  dfEuropeCleanFTTPTotal['2019%'] = dfEuropeCleanFTTPTotal['2019%'].replace(0, 0.1)\n",
            "<ipython-input-49-f4f51c3ae59e>:13: SettingWithCopyWarning: \n",
            "A value is trying to be set on a copy of a slice from a DataFrame.\n",
            "Try using .loc[row_indexer,col_indexer] = value instead\n",
            "\n",
            "See the caveats in the documentation: https://pandas.pydata.org/pandas-docs/stable/user_guide/indexing.html#returning-a-view-versus-a-copy\n",
            "  results_df['5 year Growth (%)'] = round(((results_df['2023%']-results_df['2019%'])/results_df['2019%'])*100,2)\n"
          ]
        }
      ]
    },
    {
      "cell_type": "markdown",
      "source": [
        "##Analysis of historical european data to show growth over the last five years\n",
        "\n",
        "This notebook contains code to calculate growth in fibre optic availability over the last five years\n",
        "It is initially based on the data provided by the european commission. Code to load and clean that data is available in notebook named\n",
        "*European statistical fibre optic availability data.ipynb*\n",
        "\n",
        "NB THIS CODE ASSUMES YOU'VE FIRST RUN THE ABOVE FILE AND HAVE PRODUCED A\n",
        "DATAFRAME CALLED **dfEuropeCleanFTTP**\n",
        "\n",
        "\n",
        "1. load libraries and mount google drive"
      ],
      "metadata": {
        "id": "m5fgKcJMW0aY"
      },
      "id": "m5fgKcJMW0aY"
    },
    {
      "cell_type": "code",
      "source": [
        "# Import and alias the necessary libraries\n",
        "import numpy as np\n",
        "import matplotlib.pyplot as plt\n",
        "import seaborn as sns\n",
        "\n",
        "\n"
      ],
      "metadata": {
        "id": "8Pdava7FW1d_"
      },
      "id": "8Pdava7FW1d_",
      "execution_count": 50,
      "outputs": []
    },
    {
      "cell_type": "markdown",
      "source": [
        "2. Define the function to calculate growth over the last five years\n",
        "\n",
        "This function accepts a dataset that consists of one row of data for a particular country and a specified integer 1 to 5 for the year.\n",
        "It calculates yearly growth as the difference in percentage availability between year1 and year2 as a percentage of year1 value\n",
        "\n",
        " ((year2% - year1%) / year1 percentage) * 100\n",
        "\n",
        " It returns a list that contains the Country name, the URClass, the year and the growth figure as a percentage"
      ],
      "metadata": {
        "id": "wLhHWlrDXCFW"
      },
      "id": "wLhHWlrDXCFW"
    },
    {
      "cell_type": "code",
      "source": [
        "def fn_calc_yearly_growth(thisdf, year):\n",
        "  #find growth for year specified. Eg year = 1, we measure growth from 2019 - 2020\n",
        "  #check for zeroes\n",
        "  #not really sure what to do about zeroes - how do we measure growth from zero???\n",
        "  if year == 1:\n",
        "    if thisdf['2018%'] > 0:\n",
        "      percentage_growth = ((thisdf['2019%'] - thisdf['2018%'])/thisdf['2018%'])*100\n",
        "    else:\n",
        "      percentage_growth = 0\n",
        "  if year == 2:\n",
        "    if thisdf['2019%'] > 0:\n",
        "      percentage_growth = ((thisdf['2020%'] - thisdf['2019%'])/thisdf['2019%'])*100\n",
        "    else:\n",
        "      percentage_growth = 0\n",
        "  if year == 3:\n",
        "    if thisdf['2020%'] > 0:\n",
        "      percentage_growth = ((thisdf['2021%'] - thisdf['2020%'])/thisdf['2020%'])*100\n",
        "    else:\n",
        "      percentage_growth = 0\n",
        "  if year == 4:\n",
        "    if thisdf['2021%'] > 0:\n",
        "      percentage_growth = ((thisdf['2022%'] - thisdf['2021%'])/thisdf['2021%'])*100\n",
        "    else:\n",
        "      percentage_growth = 0\n",
        "  if year == 5:\n",
        "    if thisdf['2022%'] > 0:\n",
        "     percentage_growth = ((thisdf['2023%'] - thisdf['2022%'])/thisdf['2022%'])*100\n",
        "    else:\n",
        "      percentage_growth = 0\n",
        "  return [thisdf['Country'],thisdf['URClass'],year,percentage_growth]"
      ],
      "metadata": {
        "id": "BeUNI36kXDNo"
      },
      "id": "BeUNI36kXDNo",
      "execution_count": 51,
      "outputs": []
    },
    {
      "cell_type": "markdown",
      "source": [
        "4. Call the fn_calc_yearly_growth for whatever combination of country and URClass is required.\n",
        "The code below does all countries and both URClasses\n",
        "It loops through the dataframe and calculates the growth for each of the last five years where year 1 is 2018-2019 and year 5 is 2022 - 2023\n",
        "I've done it this way so the results can be put into a dataframe with a structure that will suit graphing"
      ],
      "metadata": {
        "id": "A8zp5ww6XKPl"
      },
      "id": "A8zp5ww6XKPl"
    },
    {
      "cell_type": "code",
      "source": [
        "#for each row returned, call the fn_calc_yearly_growth and append results to an array\n",
        "results = []\n",
        "for index, row in dfEuropeCleanFTTP.iterrows():\n",
        "    results.append(fn_calc_yearly_growth(row, 1))\n",
        "    results.append(fn_calc_yearly_growth(row, 2))\n",
        "    results.append(fn_calc_yearly_growth(row, 3))\n",
        "    results.append(fn_calc_yearly_growth(row, 4))\n",
        "    results.append(fn_calc_yearly_growth(row, 5))\n",
        "print(results)\n",
        "#put all the results in a new dataframe\n",
        "results_df = pd.DataFrame(results, columns=[\"Country\",\"URClass\",\"Year\",\"Value\"])\n",
        "print(results_df)\n",
        "\n"
      ],
      "metadata": {
        "id": "UFyMTLkFXLBs",
        "outputId": "d4155398-be4c-41fc-82dc-95240f375382",
        "colab": {
          "base_uri": "https://localhost:8080/"
        }
      },
      "id": "UFyMTLkFXLBs",
      "execution_count": 52,
      "outputs": [
        {
          "output_type": "stream",
          "name": "stdout",
          "text": [
            "[['Austria', 'Total', 1, 6.153846153846159], ['Austria', 'Total', 2, 48.55072463768116], ['Austria', 'Total', 3, 29.756097560975615], ['Austria', 'Total', 4, 37.59398496240601], ['Austria', 'Total', 5, 12.021857923497263], ['Belgium', 'Total', 1, 157.14285714285717], ['Belgium', 'Total', 2, 80.55555555555554], ['Belgium', 'Total', 3, 55.38461538461538], ['Belgium', 'Total', 4, 70.29702970297029], ['Belgium', 'Total', 5, 45.34883720930233], ['Bulgaria', 'Total', 1, 20.29520295202952], ['Bulgaria', 'Total', 2, 15.337423312883436], ['Bulgaria', 'Total', 3, 8.244680851063833], ['Bulgaria', 'Total', 4, 5.159705159705146], ['Bulgaria', 'Total', 5, 3.504672897196262], ['Croatia', 'Total', 1, 32.478632478632484], ['Croatia', 'Total', 2, 14.83870967741936], ['Croatia', 'Total', 3, 8.707865168539328], ['Croatia', 'Total', 4, 39.27648578811368], ['Croatia', 'Total', 5, 15.213358070500934], ['Cyprus', 'Total', 1, 1920.0], ['Cyprus', 'Total', 2, 159.40594059405944], ['Cyprus', 'Total', 3, 58.01526717557252], ['Cyprus', 'Total', 4, 44.92753623188406], ['Cyprus', 'Total', 5, 28.499999999999993], ['Czechia', 'Total', 1, 3.53356890459364], ['Czechia', 'Total', 2, 13.651877133105788], ['Czechia', 'Total', 3, 7.5075075075075075], ['Czechia', 'Total', 4, 4.469273743016764], ['Czechia', 'Total', 5, -3.7433155080213867], ['Denmark', 'Total', 1, 3.881987577639751], ['Denmark', 'Total', 2, 4.78325859491777], ['Denmark', 'Total', 3, 5.706134094151213], ['Denmark', 'Total', 4, 5.128205128205144], ['Denmark', 'Total', 5, 7.830551989730415], ['Estonia', 'Total', 1, 5.904059040590397], ['Estonia', 'Total', 2, 23.519163763066214], ['Estonia', 'Total', 3, 3.5260930888575452], ['Estonia', 'Total', 4, 3.950953678474103], ['Estonia', 'Total', 5, 0.7863695937090545], ['Finland', 'Total', 1, 12.101910828025492], ['Finland', 'Total', 2, 7.102272727272727], ['Finland', 'Total', 3, 6.100795755968162], ['Finland', 'Total', 4, 25.749999999999996], ['Finland', 'Total', 5, 21.47117296222665], ['France', 'Total', 1, 15.873015873015875], ['France', 'Total', 2, 20.091324200913252], ['France', 'Total', 3, 20.532319391634974], ['France', 'Total', 4, 15.772870662460578], ['France', 'Total', 5, 10.899182561307901], ['Germany', 'Total', 1, 23.52941176470588], ['Germany', 'Total', 2, 31.428571428571434], ['Germany', 'Total', 3, 11.594202898550723], ['Germany', 'Total', 4, 25.324675324675326], ['Germany', 'Total', 5, 54.4041450777202], ['Greece', 'Total', 1, 1674.9999999999995], ['Greece', 'Total', 2, 43.66197183098591], ['Greece', 'Total', 3, 94.11764705882355], ['Greece', 'Total', 4, 40.4040404040404], ['Greece', 'Total', 5, 38.12949640287769], ['Hungary', 'Total', 1, 18.662952646239564], ['Hungary', 'Total', 2, 14.084507042253522], ['Hungary', 'Total', 3, 32.098765432098766], ['Hungary', 'Total', 4, 9.190031152647961], ['Hungary', 'Total', 5, 8.701854493580612], ['Iceland', 'Total', 1, 5.511811023622051], ['Iceland', 'Total', 2, 3.855721393034819], ['Iceland', 'Total', 3, 4.910179640718556], ['Iceland', 'Total', 4, 0.6849315068493248], ['Iceland', 'Total', 5, 3.174603174603171], ['Ireland', 'Total', 1, 174.41860465116278], ['Ireland', 'Total', 2, 34.74576271186442], ['Ireland', 'Total', 3, 30.398322851153036], ['Ireland', 'Total', 4, 15.916398713826352], ['Ireland', 'Total', 5, 8.876560332871021], ['Italy', 'Total', 1, 25.52301255230126], ['Italy', 'Total', 2, 12.333333333333343], ['Italy', 'Total', 3, 31.15727002967359], ['Italy', 'Total', 4, 21.493212669683256], ['Italy', 'Total', 5, 10.986964618249532], ['Lithuania', 'Total', 1, 0.6600660066006577], ['Lithuania', 'Total', 2, 9.999999999999991], ['Lithuania', 'Total', 3, 16.542473919523115], ['Lithuania', 'Total', 4, -0.25575447570332843], ['Lithuania', 'Total', 5, 0.12820512820512092], ['Latvia', 'Total', 1, 5.807622504537197], ['Latvia', 'Total', 2, 2.5728987993138936], ['Latvia', 'Total', 3, 1.5050167224080364], ['Latvia', 'Total', 4, 0.32948929159801604], ['Latvia', 'Total', 5, 1.6420361247947455], ['Luxembourg', 'Total', 1, 6.466876971608835], ['Luxembourg', 'Total', 2, 6.814814814814807], ['Luxembourg', 'Total', 3, 4.299583911234409], ['Luxembourg', 'Total', 4, 1.3297872340425532], ['Luxembourg', 'Total', 5, 3.5433070866141767], ['Malta', 'Total', 1, 24.05063291139241], ['Malta', 'Total', 2, 4.59183673469387], ['Malta', 'Total', 3, 17.073170731707318], ['Malta', 'Total', 4, 17.08333333333334], ['Malta', 'Total', 5, 23.843416370106745], ['Netherlands', 'Total', 1, 6.832298136645949], ['Netherlands', 'Total', 2, 3.4883720930232642], ['Netherlands', 'Total', 3, 45.786516853932575], ['Netherlands', 'Total', 4, 22.157996146435455], ['Netherlands', 'Total', 5, 22.55520504731862], ['Norway', 'Total', 1, 21.63543441226576], ['Norway', 'Total', 2, 3.221288515406158], ['Norway', 'Total', 3, 2.170963364993208], ['Norway', 'Total', 4, 8.764940239043836], ['Norway', 'Total', 5, 6.471306471306468], ['Poland', 'Total', 1, 31.615120274914073], ['Poland', 'Total', 2, 16.449086161879908], ['Poland', 'Total', 3, 16.367713004484298], ['Poland', 'Total', 4, 14.643545279383433], ['Poland', 'Total', 5, 26.722689075630264], ['Portugal', 'Total', 1, 9.116809116809105], ['Portugal', 'Total', 2, 7.4412532637075754], ['Portugal', 'Total', 3, 6.439854191980555], ['Portugal', 'Total', 4, 3.6529680365296837], ['Portugal', 'Total', 5, 1.6519823788546255], ['Romania', 'Total', 1, 8.612440191387547], ['Romania', 'Total', 2, 11.453744493392088], ['Romania', 'Total', 3, 14.756258234519088], ['Romania', 'Total', 4, 9.758897818599312], ['Romania', 'Total', 5, -0.6276150627615004], ['Slovakia', 'Total', 1, 3.2634032634032604], ['Slovakia', 'Total', 2, 11.060948081264122], ['Slovakia', 'Total', 3, 26.626016260162586], ['Slovakia', 'Total', 4, 7.383627608346724], ['Slovakia', 'Total', 5, -4.035874439461887], ['Slovenia', 'Total', 1, 4.4189852700490935], ['Slovenia', 'Total', 2, 2.8213166144200583], ['Slovenia', 'Total', 3, 10.51829268292684], ['Slovenia', 'Total', 4, 4.137931034482759], ['Slovenia', 'Total', 5, 3.9735099337748347], ['Spain', 'Total', 1, 3.875968992248062], ['Spain', 'Total', 2, 5.597014925373134], ['Spain', 'Total', 3, 4.7114252061248525], ['Spain', 'Total', 4, 2.3622047244094424], ['Spain', 'Total', 5, 4.6153846153846185], ['Sweden', 'Total', 1, 6.786703601108021], ['Sweden', 'Total', 2, 4.409857328145274], ['Sweden', 'Total', 3, 2.484472049689441], ['Sweden', 'Total', 4, -1.2121212121212122], ['Sweden', 'Total', 5, 2.9447852760736266], ['Switzerland', 'Total', 1, 15.181518151815174], ['Switzerland', 'Total', 2, 13.75358166189113], ['Switzerland', 'Total', 3, 1.2594458438287153], ['Switzerland', 'Total', 4, 7.213930348258703], ['Switzerland', 'Total', 5, 6.264501160092798], ['United Kingdom', 'Total', 1, 123.6842105263158], ['United Kingdom', 'Total', 2, 70.58823529411765], ['United Kingdom', 'Total', 3, 60.6896551724138], ['United Kingdom', 'Total', 4, 55.793991416309], ['United Kingdom', 'Total', 5, 42.148760330578526], ['EU27', 'Total', 1, 13.55421686746988], ['EU27', 'Total', 2, 13.79310344827585], ['EU27', 'Total', 3, 16.08391608391608], ['EU27', 'Total', 4, 13.253012048192774], ['EU27', 'Total', 5, 13.475177304964541], ['EU28', 'Total', 1, 15.463917525773196], ['EU28', 'Total', 2, 15.773809523809515], ['EU28', 'Total', 3, 19.023136246786628], ['EU28', 'Total', 4, 15.98272138228943], ['EU28', 'Total', 5, 16.201117318435745], ['Austria', 'Rural', 1, 69.4915254237288], ['Austria', 'Rural', 2, 5.9999999999999964], ['Austria', 'Rural', 3, 40.566037735849065], ['Austria', 'Rural', 4, 51.67785234899329], ['Austria', 'Rural', 5, 26.991150442477863], ['Belgium', 'Rural', 1, 0], ['Belgium', 'Rural', 2, 300.00000000000006], ['Belgium', 'Rural', 3, 74.99999999999997], ['Belgium', 'Rural', 4, 85.71428571428574], ['Belgium', 'Rural', 5, 461.5384615384615], ['Bulgaria', 'Rural', 1, 50.63291139240508], ['Bulgaria', 'Rural', 2, 36.41456582633053], ['Bulgaria', 'Rural', 3, 18.27515400410677], ['Bulgaria', 'Rural', 4, 15.624999999999986], ['Bulgaria', 'Rural', 5, 10.660660660660675], ['Croatia', 'Rural', 1, 70.27027027027025], ['Croatia', 'Rural', 2, 7.936507936507936], ['Croatia', 'Rural', 3, 4.411764705882351], ['Croatia', 'Rural', 4, 92.95774647887323], ['Croatia', 'Rural', 5, 43.79562043795621], ['Cyprus', 'Rural', 1, 0], ['Cyprus', 'Rural', 2, 121.8181818181818], ['Cyprus', 'Rural', 3, 83.60655737704919], ['Cyprus', 'Rural', 4, 56.250000000000014], ['Cyprus', 'Rural', 5, 59.14285714285715], ['Czechia', 'Rural', 1, 5.35714285714287], ['Czechia', 'Rural', 2, 8.47457627118644], ['Czechia', 'Rural', 3, 7.8125], ['Czechia', 'Rural', 4, 17.391304347826075], ['Czechia', 'Rural', 5, -11.111111111111105], ['Denmark', 'Rural', 1, 8.223684210526317], ['Denmark', 'Rural', 2, 7.7507598784194665], ['Denmark', 'Rural', 3, 9.732016925246814], ['Denmark', 'Rural', 4, 11.82519280205656], ['Denmark', 'Rural', 5, 3.7931034482758585], ['Estonia', 'Rural', 1, 10.000000000000004], ['Estonia', 'Rural', 2, 3.535353535353532], ['Estonia', 'Rural', 3, 2.9268292682926895], ['Estonia', 'Rural', 4, 60.66350710900472], ['Estonia', 'Rural', 5, 100.0], ['Finland', 'Rural', 1, -2.1505376344086136], ['Finland', 'Rural', 2, 3.2967032967033045], ['Finland', 'Rural', 3, 31.914893617021274], ['Finland', 'Rural', 4, 104.83870967741933], ['Finland', 'Rural', 5, 54.7244094488189], ['France', 'Rural', 1, 33.33333333333333], ['France', 'Rural', 2, 48.38709677419353], ['France', 'Rural', 3, 56.5217391304348], ['France', 'Rural', 4, 59.374999999999986], ['France', 'Rural', 5, 40.74074074074073], ['Germany', 'Rural', 1, 55.55555555555555], ['Germany', 'Rural', 2, 89.28571428571429], ['Germany', 'Rural', 3, 6.60377358490567], ['Germany', 'Rural', 4, 49.55752212389378], ['Germany', 'Rural', 5, 51.47928994082842], ['Greece', 'Rural', 1, 0], ['Greece', 'Rural', 2, 0], ['Greece', 'Rural', 3, 0], ['Greece', 'Rural', 4, 0], ['Greece', 'Rural', 5, 0], ['Hungary', 'Rural', 1, 85.25641025641025], ['Hungary', 'Rural', 2, 23.18339100346022], ['Hungary', 'Rural', 3, 6.460674157303363], ['Hungary', 'Rural', 4, 38.258575197889186], ['Hungary', 'Rural', 5, 23.4732824427481], ['Iceland', 'Rural', 1, 38.832487309644684], ['Iceland', 'Rural', 2, 21.206581352833627], ['Iceland', 'Rural', 3, 18.2503770739065], ['Iceland', 'Rural', 4, 0.38265306122448617], ['Iceland', 'Rural', 5, 6.607369758576878], ['Ireland', 'Rural', 1, 400.0], ['Ireland', 'Rural', 2, 52.5925925925926], ['Ireland', 'Rural', 3, 109.22330097087378], ['Ireland', 'Rural', 4, 25.986078886310892], ['Ireland', 'Rural', 5, 15.469613259668519], ['Italy', 'Rural', 1, 162.5], ['Italy', 'Rural', 2, 300.0], ['Italy', 'Rural', 3, 105.95238095238095], ['Italy', 'Rural', 4, 50.289017341040456], ['Italy', 'Rural', 5, 45.000000000000014], ['Lithuania', 'Rural', 1, 3.2110091743119233], ['Lithuania', 'Rural', 2, 3.555555555555559], ['Lithuania', 'Rural', 3, 60.94420600858369], ['Lithuania', 'Rural', 4, 5.333333333333334], ['Lithuania', 'Rural', 5, 4.050632911392409], ['Latvia', 'Rural', 1, 3.370786516853921], ['Latvia', 'Rural', 2, 8.695652173913052], ['Latvia', 'Rural', 3, 10.0], ['Latvia', 'Rural', 4, 1.818181818181812], ['Latvia', 'Rural', 5, 4.464285714285714], ['Luxembourg', 'Rural', 1, 12.162162162162163], ['Luxembourg', 'Rural', 2, 16.867469879518072], ['Luxembourg', 'Rural', 3, 5.360824742268044], ['Luxembourg', 'Rural', 4, 13.894324853228964], ['Luxembourg', 'Rural', 5, 3.608247422680402], ['Malta', 'Rural', 1, 0], ['Malta', 'Rural', 2, 0], ['Malta', 'Rural', 3, 0], ['Malta', 'Rural', 4, 0], ['Malta', 'Rural', 5, 0], ['Netherlands', 'Rural', 1, 16.299559471365637], ['Netherlands', 'Rural', 2, 3.030303030303033], ['Netherlands', 'Rural', 3, 100.36764705882352], ['Netherlands', 'Rural', 4, 40.18348623853212], ['Netherlands', 'Rural', 5, 2.6178010471204183], ['Norway', 'Rural', 1, 37.423312883435564], ['Norway', 'Rural', 2, 25.66964285714286], ['Norway', 'Rural', 3, 13.676731793960931], ['Norway', 'Rural', 4, 10.000000000000009], ['Norway', 'Rural', 5, 9.374999999999991], ['Poland', 'Rural', 1, 30.65693430656934], ['Poland', 'Rural', 2, 34.636871508379905], ['Poland', 'Rural', 3, 35.26970954356846], ['Poland', 'Rural', 4, -1.5337423312883436], ['Poland', 'Rural', 5, 75.38940809968847], ['Portugal', 'Rural', 1, 1.867219917012445], ['Portugal', 'Rural', 2, 4.276985743380858], ['Portugal', 'Rural', 3, 18.5546875], ['Portugal', 'Rural', 4, 7.248764415156493], ['Portugal', 'Rural', 5, 5.529953917050705], ['Romania', 'Rural', 1, 29.900332225913616], ['Romania', 'Rural', 2, 42.19948849104859], ['Romania', 'Rural', 3, 36.15107913669065], ['Romania', 'Rural', 4, 19.02245706737119], ['Romania', 'Rural', 5, 2.663706992230861], ['Slovakia', 'Rural', 1, 28.571428571428577], ['Slovakia', 'Rural', 2, 17.647058823529406], ['Slovakia', 'Rural', 3, 20.000000000000007], ['Slovakia', 'Rural', 4, 44.44444444444443], ['Slovakia', 'Rural', 5, 12.179487179487182], ['Slovenia', 'Rural', 1, 10.787172011661816], ['Slovenia', 'Rural', 2, 2.631578947368421], ['Slovenia', 'Rural', 3, 18.97435897435897], ['Slovenia', 'Rural', 4, 9.91379310344828], ['Slovenia', 'Rural', 5, 11.372549019607838], ['Spain', 'Rural', 1, 42.33128834355827], ['Spain', 'Rural', 2, 28.23275862068966], ['Spain', 'Rural', 3, 15.798319327731104], ['Spain', 'Rural', 4, 7.256894049346879], ['Spain', 'Rural', 5, 16.238159675236805], ['Sweden', 'Rural', 1, 30.96774193548388], ['Sweden', 'Rural', 2, 18.472906403940886], ['Sweden', 'Rural', 3, 12.88981288981288], ['Sweden', 'Rural', 4, 9.760589318600378], ['Sweden', 'Rural', 5, 9.395973154362418], ['Switzerland', 'Rural', 1, 4.87804878048781], ['Switzerland', 'Rural', 2, 137.2093023255814], ['Switzerland', 'Rural', 3, 3.431372549019622], ['Switzerland', 'Rural', 4, 0.9478672985781956], ['Switzerland', 'Rural', 5, 10.328638497652578], ['United Kingdom', 'Rural', 1, 37.288135593220325], ['United Kingdom', 'Rural', 2, 46.91358024691359], ['United Kingdom', 'Rural', 3, 69.74789915966385], ['United Kingdom', 'Rural', 4, 46.03960396039605], ['United Kingdom', 'Rural', 5, 33.5593220338983], ['EU27', 'Rural', 1, 33.09859154929577], ['EU27', 'Rural', 2, 33.862433862433875], ['EU27', 'Rural', 3, 30.8300395256917], ['EU27', 'Rural', 4, 22.960725075528703], ['EU27', 'Rural', 5, 29.729729729729716], ['EU28', 'Rural', 1, 33.33333333333333], ['EU28', 'Rural', 2, 34.444444444444436], ['EU28', 'Rural', 3, 32.231404958677686], ['EU28', 'Rural', 4, 24.374999999999993], ['EU28', 'Rural', 5, 29.899497487437205]]\n",
            "     Country URClass  Year      Value\n",
            "0    Austria   Total     1   6.153846\n",
            "1    Austria   Total     2  48.550725\n",
            "2    Austria   Total     3  29.756098\n",
            "3    Austria   Total     4  37.593985\n",
            "4    Austria   Total     5  12.021858\n",
            "..       ...     ...   ...        ...\n",
            "325     EU28   Rural     1  33.333333\n",
            "326     EU28   Rural     2  34.444444\n",
            "327     EU28   Rural     3  32.231405\n",
            "328     EU28   Rural     4  24.375000\n",
            "329     EU28   Rural     5  29.899497\n",
            "\n",
            "[330 rows x 4 columns]\n"
          ]
        }
      ]
    },
    {
      "cell_type": "markdown",
      "source": [
        "5. Now we can use the resulting data with growth values to plot a graph showing growth for various countries\n",
        "As the data is percentage rather than absolute values, it is a valid comparison to make"
      ],
      "metadata": {
        "id": "Je8z2GDEXOwV"
      },
      "id": "Je8z2GDEXOwV"
    },
    {
      "cell_type": "code",
      "source": [
        "#lets see France, germany and the UK\n",
        "france_df = fn_filter_by_country(results_df, 'France')\n",
        "germany_df = fn_filter_by_country(results_df, 'Germany')\n",
        "uk_df = fn_filter_by_country(results_df, 'United Kingdom')\n",
        "\n",
        "graphdf = pd.concat([france_df, germany_df, uk_df])\n",
        "graphdf_total = fn_filter_by_urclass(graphdf, 'Total')\n",
        "print(graphdf_total)\n",
        "sns.lineplot(x='Year', y='Value', hue='Country', data=graphdf_total)\n"
      ],
      "metadata": {
        "id": "BSS3tRBqXSKb",
        "outputId": "be264f3c-639e-45ba-b5a7-a586d08a6efc",
        "colab": {
          "base_uri": "https://localhost:8080/",
          "height": 744
        }
      },
      "id": "BSS3tRBqXSKb",
      "execution_count": 53,
      "outputs": [
        {
          "output_type": "stream",
          "name": "stdout",
          "text": [
            "            Country URClass  Year       Value\n",
            "45           France   Total     1   15.873016\n",
            "46           France   Total     2   20.091324\n",
            "47           France   Total     3   20.532319\n",
            "48           France   Total     4   15.772871\n",
            "49           France   Total     5   10.899183\n",
            "50          Germany   Total     1   23.529412\n",
            "51          Germany   Total     2   31.428571\n",
            "52          Germany   Total     3   11.594203\n",
            "53          Germany   Total     4   25.324675\n",
            "54          Germany   Total     5   54.404145\n",
            "150  United Kingdom   Total     1  123.684211\n",
            "151  United Kingdom   Total     2   70.588235\n",
            "152  United Kingdom   Total     3   60.689655\n",
            "153  United Kingdom   Total     4   55.793991\n",
            "154  United Kingdom   Total     5   42.148760\n"
          ]
        },
        {
          "output_type": "execute_result",
          "data": {
            "text/plain": [
              "<Axes: xlabel='Year', ylabel='Value'>"
            ]
          },
          "metadata": {},
          "execution_count": 53
        },
        {
          "output_type": "display_data",
          "data": {
            "text/plain": [
              "<Figure size 640x480 with 1 Axes>"
            ],
            "image/png": "[encoded data removed]"
          },
          "metadata": {}
        }
      ]
    }
  ],
  "metadata": {
    "kernelspec": {
      "display_name": "Python 3 (ipykernel)",
      "language": "python",
      "name": "python3"
    },
    "language_info": {
      "codemirror_mode": {
        "name": "ipython",
        "version": 3
      },
      "file_extension": ".py",
      "mimetype": "text/x-python",
      "name": "python",
      "nbconvert_exporter": "python",
      "pygments_lexer": "ipython3",
      "version": "3.12.6"
    },
    "colab": {
      "provenance": [],
      "include_colab_link": true
    }
  },
  "nbformat": 4,
  "nbformat_minor": 5
}