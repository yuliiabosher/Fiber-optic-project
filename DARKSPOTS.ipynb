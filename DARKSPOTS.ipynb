{
  "nbformat": 4,
  "nbformat_minor": 0,
  "metadata": {
    "colab": {
      "provenance": [],
      "authorship_tag": "ABX9TyMUf6MqOpZW6fpgaPAU9Kur",
      "include_colab_link": true
    },
    "kernelspec": {
      "name": "python3",
      "display_name": "Python 3"
    },
    "language_info": {
      "name": "python"
    }
  },
  "cells": [
    {
      "cell_type": "markdown",
      "metadata": {
        "id": "view-in-github",
        "colab_type": "text"
      },
      "source": [
        "<a href=\"https://colab.research.google.com/github/yuliiabosher/Fiber-optic-project/blob/statistical_analysis/DARKSPOTS.ipynb\" target=\"_parent\"><img src=\"https://colab.research.google.com/assets/colab-badge.svg\" alt=\"Open In Colab\"/></a>"
      ]
    },
    {
      "cell_type": "code",
      "execution_count": null,
      "metadata": {
        "id": "jCPGXQ-CP_kB"
      },
      "outputs": [],
      "source": [
        "#############\n",
        "###########NEED TO RUN CODE TO LOAD POSTCODE LEVEL DATA ETC BEFORE THIS###############\n",
        "# Find postcodes with < 1% coverage\n",
        "# For each postcode, get their parliamentary consitiuency and group, then count no of postcodes\n",
        "# Get total no postcodes for each constituency\n",
        "#calculate what % have < 1% coverage and then display in a map\n",
        "#############\n",
        "columns_fast_broadband=['pcds', 'pcon',\n",
        "       'Estimated Full Fibre availability (% premises)']\n",
        "\n",
        "#get no of postcodes in each parliamentary constituency\n",
        "df_numpostcodes = dfCombinedONSOFCOMData[columns_fast_broadband]\n",
        "df_totalsnumpostcodes = df_numpostcodes.groupby([\"pcon\"], as_index=False)['pcds'].count()\n",
        "\n",
        "#get the same data where postcode coverage < 1%\n",
        "dfFastBroadbandData=dfCombinedONSOFCOMData[columns_fast_broadband]\n",
        "dfFastBroadbandData.rename(columns={'Estimated Full Fibre availability (% premises)': 'FTTP'}, inplace=True)\n",
        "dfVeryLowFibreData=dfFastBroadbandData.query('FTTP < 1')\n",
        "dfGroupedVeryLowFibreData= dfVeryLowFibreData.groupby([\"pcon\"],as_index=False)['pcds'].count()\n",
        "\n",
        "#merge the two dataframes\n",
        "#df_europe_with_percent_geo_total = europe_cleaned.merge(df_final_total, left_on='NAME', right_on='Country', how='left')\n",
        "df_final = dfGroupedVeryLowFibreData.merge(df_totalsnumpostcodes, left_on='pcon', right_on='pcon', how = 'left')\n",
        "df_final['percentlow'] = df_final['pcds_x']/df_final['pcds_y']\n",
        "df_final.sort_values(['percentlow'], ascending=False, inplace=True)\n",
        "\n",
        "\n",
        "\n",
        "\n",
        "#now put it on a map\n",
        "\n",
        "constituencies = gpd.read_file('https://github.com/yuliiabosher/Fiber-optic-project/raw/refs/heads/parliamentary-constituencies/Westminster_Parliamentary_Constituencies_Dec_2021_UK_BUC_2022_-8882165546947265805.zip')\n",
        "\n",
        "\n",
        "constituencies_cleaned = constituencies[['PCON21CD', 'PCON21NM', 'geometry']]\n",
        "constituencies_cleaned['PCON21NM'] = constituencies_cleaned['PCON21NM'].str.upper().str.strip()\n",
        "\n",
        "\n",
        "fibre_by_constituency_geo_df = constituencies_cleaned.merge(df_final, left_on='PCON21CD', right_on='pcon')\n",
        "fibre_by_constituency_geo_df.drop('PCON21CD', axis=1, inplace=True)\n",
        "\n",
        "fig, ax = plt.subplots(1, 1)\n",
        "fibre_by_constituency_geo_df.plot(column='percentlow', cmap='Blues', ax=ax, legend=True)\n",
        "fig.set_size_inches(12,8)\n",
        "plt.style.use('seaborn-v0_8-whitegrid')\n",
        "font = {'family':'monospace','color':'black','size':10}\n",
        "#ax.set_title('Areas with low fibre coverage', fontdict = font, pad=-75, loc='left')\n",
        "plt.axis('off')\n",
        "fig.text(x=0.23, y=0.77, s=\"Parliamentary constituencies\", size=14)\n",
        "fig.text(x=0.23, y=0.75, s=\"Proportion of postcodes < 1% fibre coverage\", size=10)\n",
        "plt.show()\n",
        "\n",
        "#finall sort the dataframe and display the five constituencies with then highest proportion of postcodes with < 1%\n",
        "fibre_by_constituency_geo_df.sort_values(['percentlow'], ascending=False, inplace=True)\n",
        "df_table = fibre_by_constituency_geo_df\n",
        "df_table['Proportion of postcodes < 1%'] = round(fibre_by_constituency_geo_df['percentlow']*100,2)\n",
        "df_table['Parliamentary constituency'] = fibre_by_constituency_geo_df['PCON21NM']\n",
        "df_table.drop('PCON21NM', axis=1, inplace=True)\n",
        "df_table.drop('percentlow', axis=1, inplace=True)\n",
        "df_table.drop('geometry', axis=1, inplace=True)\n",
        "df_table.drop('pcon', axis=1, inplace=True)\n",
        "df_table.drop('pcds_x', axis=1, inplace=True)\n",
        "df_table.drop('pcds_y', axis=1, inplace=True)\n",
        "display(df_table.head(5))\n",
        ""
      ]
    }
  ]
}