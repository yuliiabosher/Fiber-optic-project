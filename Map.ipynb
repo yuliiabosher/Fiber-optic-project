{
  "nbformat": 4,
  "nbformat_minor": 0,
  "metadata": {
    "colab": {
      "provenance": [],
      "authorship_tag": "ABX9TyNAaNstK36JQOd/h5VQOUTL",
      "include_colab_link": true
    },
    "kernelspec": {
      "name": "python3",
      "display_name": "Python 3"
    },
    "language_info": {
      "name": "python"
    }
  },
  "cells": [
    {
      "cell_type": "markdown",
      "metadata": {
        "id": "view-in-github",
        "colab_type": "text"
      },
      "source": [
        "<a href=\"https://colab.research.google.com/github/yuliiabosher/Fiber-optic-project/blob/main/Map.ipynb\" target=\"_parent\"><img src=\"https://colab.research.google.com/assets/colab-badge.svg\" alt=\"Open In Colab\"/></a>"
      ]
    },
    {
      "cell_type": "code",
      "execution_count": 1,
      "metadata": {
        "id": "4O9VorXSgT2B",
        "colab": {
          "base_uri": "https://localhost:8080/"
        },
        "outputId": "9045b49b-ca11-4c32-bc10-888141f31636"
      },
      "outputs": [
        {
          "output_type": "stream",
          "name": "stdout",
          "text": [
            "Requirement already satisfied: geopandas in /usr/local/lib/python3.10/dist-packages (0.14.4)\n",
            "Requirement already satisfied: fiona>=1.8.21 in /usr/local/lib/python3.10/dist-packages (from geopandas) (1.10.0)\n",
            "Requirement already satisfied: numpy>=1.22 in /usr/local/lib/python3.10/dist-packages (from geopandas) (1.26.4)\n",
            "Requirement already satisfied: packaging in /usr/local/lib/python3.10/dist-packages (from geopandas) (24.1)\n",
            "Requirement already satisfied: pandas>=1.4.0 in /usr/local/lib/python3.10/dist-packages (from geopandas) (2.1.4)\n",
            "Requirement already satisfied: pyproj>=3.3.0 in /usr/local/lib/python3.10/dist-packages (from geopandas) (3.6.1)\n",
            "Requirement already satisfied: shapely>=1.8.0 in /usr/local/lib/python3.10/dist-packages (from geopandas) (2.0.6)\n",
            "Requirement already satisfied: attrs>=19.2.0 in /usr/local/lib/python3.10/dist-packages (from fiona>=1.8.21->geopandas) (24.2.0)\n",
            "Requirement already satisfied: certifi in /usr/local/lib/python3.10/dist-packages (from fiona>=1.8.21->geopandas) (2024.8.30)\n",
            "Requirement already satisfied: click~=8.0 in /usr/local/lib/python3.10/dist-packages (from fiona>=1.8.21->geopandas) (8.1.7)\n",
            "Requirement already satisfied: click-plugins>=1.0 in /usr/local/lib/python3.10/dist-packages (from fiona>=1.8.21->geopandas) (1.1.1)\n",
            "Requirement already satisfied: cligj>=0.5 in /usr/local/lib/python3.10/dist-packages (from fiona>=1.8.21->geopandas) (0.7.2)\n",
            "Requirement already satisfied: python-dateutil>=2.8.2 in /usr/local/lib/python3.10/dist-packages (from pandas>=1.4.0->geopandas) (2.8.2)\n",
            "Requirement already satisfied: pytz>=2020.1 in /usr/local/lib/python3.10/dist-packages (from pandas>=1.4.0->geopandas) (2024.2)\n",
            "Requirement already satisfied: tzdata>=2022.1 in /usr/local/lib/python3.10/dist-packages (from pandas>=1.4.0->geopandas) (2024.1)\n",
            "Requirement already satisfied: six>=1.5 in /usr/local/lib/python3.10/dist-packages (from python-dateutil>=2.8.2->pandas>=1.4.0->geopandas) (1.16.0)\n",
            "Collecting pyogrio\n",
            "  Downloading pyogrio-0.9.0-cp310-cp310-manylinux_2_17_x86_64.manylinux2014_x86_64.whl.metadata (3.8 kB)\n",
            "Requirement already satisfied: certifi in /usr/local/lib/python3.10/dist-packages (from pyogrio) (2024.8.30)\n",
            "Requirement already satisfied: numpy in /usr/local/lib/python3.10/dist-packages (from pyogrio) (1.26.4)\n",
            "Requirement already satisfied: packaging in /usr/local/lib/python3.10/dist-packages (from pyogrio) (24.1)\n",
            "Downloading pyogrio-0.9.0-cp310-cp310-manylinux_2_17_x86_64.manylinux2014_x86_64.whl (23.1 MB)\n",
            "\u001b[2K   \u001b[90m━━━━━━━━━━━━━━━━━━━━━━━━━━━━━━━━━━━━━━━━\u001b[0m \u001b[32m23.1/23.1 MB\u001b[0m \u001b[31m41.3 MB/s\u001b[0m eta \u001b[36m0:00:00\u001b[0m\n",
            "\u001b[?25hInstalling collected packages: pyogrio\n",
            "Successfully installed pyogrio-0.9.0\n",
            "Collecting ogr\n",
            "  Downloading ogr-0.49.2-py3-none-any.whl.metadata (4.4 kB)\n",
            "Requirement already satisfied: cryptography in /usr/local/lib/python3.10/dist-packages (from ogr) (43.0.1)\n",
            "Collecting deprecated (from ogr)\n",
            "  Downloading Deprecated-1.2.14-py2.py3-none-any.whl.metadata (5.4 kB)\n",
            "Collecting gitpython (from ogr)\n",
            "  Downloading GitPython-3.1.43-py3-none-any.whl.metadata (13 kB)\n",
            "Collecting pygithub (from ogr)\n",
            "  Downloading PyGithub-2.4.0-py3-none-any.whl.metadata (3.9 kB)\n",
            "Collecting python-gitlab (from ogr)\n",
            "  Downloading python_gitlab-4.11.1-py3-none-any.whl.metadata (8.3 kB)\n",
            "Requirement already satisfied: pyyaml in /usr/local/lib/python3.10/dist-packages (from ogr) (6.0.2)\n",
            "Requirement already satisfied: requests in /usr/local/lib/python3.10/dist-packages (from ogr) (2.32.3)\n",
            "Requirement already satisfied: urllib3 in /usr/local/lib/python3.10/dist-packages (from ogr) (2.0.7)\n",
            "Requirement already satisfied: cffi>=1.12 in /usr/local/lib/python3.10/dist-packages (from cryptography->ogr) (1.17.1)\n",
            "Requirement already satisfied: wrapt<2,>=1.10 in /usr/local/lib/python3.10/dist-packages (from deprecated->ogr) (1.16.0)\n",
            "Collecting gitdb<5,>=4.0.1 (from gitpython->ogr)\n",
            "  Downloading gitdb-4.0.11-py3-none-any.whl.metadata (1.2 kB)\n",
            "Collecting pynacl>=1.4.0 (from pygithub->ogr)\n",
            "  Downloading PyNaCl-1.5.0-cp36-abi3-manylinux_2_17_x86_64.manylinux2014_x86_64.manylinux_2_24_x86_64.whl.metadata (8.6 kB)\n",
            "Requirement already satisfied: pyjwt>=2.4.0 in /usr/local/lib/python3.10/dist-packages (from pyjwt[crypto]>=2.4.0->pygithub->ogr) (2.9.0)\n",
            "Requirement already satisfied: typing-extensions>=4.0.0 in /usr/local/lib/python3.10/dist-packages (from pygithub->ogr) (4.12.2)\n",
            "Requirement already satisfied: charset-normalizer<4,>=2 in /usr/local/lib/python3.10/dist-packages (from requests->ogr) (3.3.2)\n",
            "Requirement already satisfied: idna<4,>=2.5 in /usr/local/lib/python3.10/dist-packages (from requests->ogr) (3.8)\n",
            "Requirement already satisfied: certifi>=2017.4.17 in /usr/local/lib/python3.10/dist-packages (from requests->ogr) (2024.8.30)\n",
            "Collecting requests-toolbelt>=1.0.0 (from python-gitlab->ogr)\n",
            "  Downloading requests_toolbelt-1.0.0-py2.py3-none-any.whl.metadata (14 kB)\n",
            "Requirement already satisfied: pycparser in /usr/local/lib/python3.10/dist-packages (from cffi>=1.12->cryptography->ogr) (2.22)\n",
            "Collecting smmap<6,>=3.0.1 (from gitdb<5,>=4.0.1->gitpython->ogr)\n",
            "  Downloading smmap-5.0.1-py3-none-any.whl.metadata (4.3 kB)\n",
            "Downloading ogr-0.49.2-py3-none-any.whl (81 kB)\n",
            "\u001b[2K   \u001b[90m━━━━━━━━━━━━━━━━━━━━━━━━━━━━━━━━━━━━━━━━\u001b[0m \u001b[32m81.2/81.2 kB\u001b[0m \u001b[31m3.4 MB/s\u001b[0m eta \u001b[36m0:00:00\u001b[0m\n",
            "\u001b[?25hDownloading Deprecated-1.2.14-py2.py3-none-any.whl (9.6 kB)\n",
            "Downloading GitPython-3.1.43-py3-none-any.whl (207 kB)\n",
            "\u001b[2K   \u001b[90m━━━━━━━━━━━━━━━━━━━━━━━━━━━━━━━━━━━━━━━━\u001b[0m \u001b[32m207.3/207.3 kB\u001b[0m \u001b[31m10.8 MB/s\u001b[0m eta \u001b[36m0:00:00\u001b[0m\n",
            "\u001b[?25hDownloading PyGithub-2.4.0-py3-none-any.whl (362 kB)\n",
            "\u001b[2K   \u001b[90m━━━━━━━━━━━━━━━━━━━━━━━━━━━━━━━━━━━━━━━━\u001b[0m \u001b[32m362.6/362.6 kB\u001b[0m \u001b[31m10.7 MB/s\u001b[0m eta \u001b[36m0:00:00\u001b[0m\n",
            "\u001b[?25hDownloading python_gitlab-4.11.1-py3-none-any.whl (144 kB)\n",
            "\u001b[2K   \u001b[90m━━━━━━━━━━━━━━━━━━━━━━━━━━━━━━━━━━━━━━━━\u001b[0m \u001b[32m144.9/144.9 kB\u001b[0m \u001b[31m5.9 MB/s\u001b[0m eta \u001b[36m0:00:00\u001b[0m\n",
            "\u001b[?25hDownloading gitdb-4.0.11-py3-none-any.whl (62 kB)\n",
            "\u001b[2K   \u001b[90m━━━━━━━━━━━━━━━━━━━━━━━━━━━━━━━━━━━━━━━━\u001b[0m \u001b[32m62.7/62.7 kB\u001b[0m \u001b[31m2.6 MB/s\u001b[0m eta \u001b[36m0:00:00\u001b[0m\n",
            "\u001b[?25hDownloading PyNaCl-1.5.0-cp36-abi3-manylinux_2_17_x86_64.manylinux2014_x86_64.manylinux_2_24_x86_64.whl (856 kB)\n",
            "\u001b[2K   \u001b[90m━━━━━━━━━━━━━━━━━━━━━━━━━━━━━━━━━━━━━━━━\u001b[0m \u001b[32m856.7/856.7 kB\u001b[0m \u001b[31m31.7 MB/s\u001b[0m eta \u001b[36m0:00:00\u001b[0m\n",
            "\u001b[?25hDownloading requests_toolbelt-1.0.0-py2.py3-none-any.whl (54 kB)\n",
            "\u001b[2K   \u001b[90m━━━━━━━━━━━━━━━━━━━━━━━━━━━━━━━━━━━━━━━━\u001b[0m \u001b[32m54.5/54.5 kB\u001b[0m \u001b[31m1.4 MB/s\u001b[0m eta \u001b[36m0:00:00\u001b[0m\n",
            "\u001b[?25hDownloading smmap-5.0.1-py3-none-any.whl (24 kB)\n",
            "Installing collected packages: smmap, deprecated, requests-toolbelt, pynacl, gitdb, python-gitlab, gitpython, pygithub, ogr\n",
            "Successfully installed deprecated-1.2.14 gitdb-4.0.11 gitpython-3.1.43 ogr-0.49.2 pygithub-2.4.0 pynacl-1.5.0 python-gitlab-4.11.1 requests-toolbelt-1.0.0 smmap-5.0.1\n",
            "Requirement already satisfied: dask in /usr/local/lib/python3.10/dist-packages (2024.7.1)\n",
            "Requirement already satisfied: click>=8.1 in /usr/local/lib/python3.10/dist-packages (from dask) (8.1.7)\n",
            "Requirement already satisfied: cloudpickle>=1.5.0 in /usr/local/lib/python3.10/dist-packages (from dask) (2.2.1)\n",
            "Requirement already satisfied: fsspec>=2021.09.0 in /usr/local/lib/python3.10/dist-packages (from dask) (2024.6.1)\n",
            "Requirement already satisfied: packaging>=20.0 in /usr/local/lib/python3.10/dist-packages (from dask) (24.1)\n",
            "Requirement already satisfied: partd>=1.4.0 in /usr/local/lib/python3.10/dist-packages (from dask) (1.4.2)\n",
            "Requirement already satisfied: pyyaml>=5.3.1 in /usr/local/lib/python3.10/dist-packages (from dask) (6.0.2)\n",
            "Requirement already satisfied: toolz>=0.10.0 in /usr/local/lib/python3.10/dist-packages (from dask) (0.12.1)\n",
            "Requirement already satisfied: importlib-metadata>=4.13.0 in /usr/local/lib/python3.10/dist-packages (from dask) (8.5.0)\n",
            "Requirement already satisfied: zipp>=3.20 in /usr/local/lib/python3.10/dist-packages (from importlib-metadata>=4.13.0->dask) (3.20.1)\n",
            "Requirement already satisfied: locket in /usr/local/lib/python3.10/dist-packages (from partd>=1.4.0->dask) (1.0.0)\n"
          ]
        }
      ],
      "source": [
        "!pip install geopandas\n",
        "!pip install pyogrio\n",
        "!pip install ogr\n",
        "!pip install dask"
      ]
    },
    {
      "cell_type": "code",
      "source": [
        "import geopandas as gpd\n",
        "import ogr\n",
        "import pandas as pd\n",
        "import pyogrio\n",
        "import folium\n",
        "import dask"
      ],
      "metadata": {
        "id": "7p8CdhWwhWXz"
      },
      "execution_count": 2,
      "outputs": []
    },
    {
      "cell_type": "code",
      "source": [
        "def read_shape_file(file,layer):\n",
        "  district = gpd.read_file(file, engine=\"pyogrio\", layer=layer)\n",
        "  return district"
      ],
      "metadata": {
        "id": "2FFi9nL-hgtA"
      },
      "execution_count": 66,
      "outputs": []
    },
    {
      "cell_type": "code",
      "source": [
        "for i in range(18):\n",
        "  scotland = read_shape_file('https://download.geofabrik.de/europe/united-kingdom/scotland-latest-free.shp.zip',i)\n",
        "  print(scotland['fclass'].unique())"
      ],
      "metadata": {
        "colab": {
          "base_uri": "https://localhost:8080/"
        },
        "id": "nhC4THRmhkgS",
        "outputId": "c5ed85cf-5468-41da-b779-590df3b675c9"
      },
      "execution_count": 67,
      "outputs": [
        {
          "output_type": "stream",
          "name": "stdout",
          "text": [
            "['building']\n",
            "['grass' 'nature_reserve' 'meadow' 'heath' 'scrub' 'park' 'allotments'\n",
            " 'recreation_ground' 'cemetery' 'farmland' 'forest' 'retail' 'commercial'\n",
            " 'industrial' 'farmyard' 'quarry' 'residential' 'military' 'orchard']\n",
            "['beach' 'cliff' 'spring' 'cave_entrance']\n",
            "['peak' 'cave_entrance' 'cliff' 'tree' 'spring' 'beach' 'volcano']\n",
            "['island' 'suburb' 'locality' 'hamlet' 'village' 'farm' 'town' 'region'\n",
            " 'county' 'city']\n",
            "['suburb' 'town' 'locality' 'city' 'village' 'hamlet' 'farm' 'county'\n",
            " 'region' 'island']\n",
            "['christian' 'christian_methodist' 'christian_catholic' 'muslim_sunni'\n",
            " 'jewish' 'christian_orthodox' 'christian_anglican'\n",
            " 'christian_evangelical' 'muslim' 'christian_protestant' 'hindu' 'sikh'\n",
            " 'buddhist' 'muslim_shia']\n",
            "['christian' 'christian_catholic' 'christian_anglican' 'buddhist' 'sikh'\n",
            " 'muslim' 'christian_protestant' 'christian_evangelical'\n",
            " 'christian_methodist' 'muslim_sunni']\n",
            "['stadium' 'park' 'sports_centre' 'kindergarten' 'school' 'castle'\n",
            " 'attraction' 'library' 'graveyard' 'pitch' 'university' 'playground'\n",
            " 'supermarket' 'furniture_shop' 'toy_shop' 'doityourself' 'car_dealership'\n",
            " 'golf_course' 'prison' 'garden_centre' 'mall' 'hospital' 'camp_site'\n",
            " 'community_centre' 'college' 'theatre' 'track' 'alpine_hut'\n",
            " 'wastewater_plant' 'water_works' 'hotel' 'theme_park' 'monument' 'pub'\n",
            " 'museum' 'ruins' 'cinema' 'archaeological' 'outdoor_shop' 'doctors'\n",
            " 'town_hall' 'zoo' 'ice_rink' 'fast_food' 'public_building' 'police'\n",
            " 'caravan_site' 'car_wash' 'car_rental' 'restaurant' 'fort' 'toilet'\n",
            " 'convenience' 'arts_centre' 'fire_station' 'pharmacy' 'sports_shop'\n",
            " 'clothes' 'clinic' 'tourist_info' 'cafe' 'beverages' 'recycling'\n",
            " 'guesthouse' 'shelter' 'picnic_site' 'dog_park' 'department_store'\n",
            " 'hairdresser' 'tower' 'lighthouse' 'water_well' 'swimming_pool'\n",
            " 'newsagent' 'recycling_glass' 'veterinary' 'courthouse' 'dentist'\n",
            " 'water_tower' 'bar' 'nursing_home' 'post_office' 'hostel' 'memorial'\n",
            " 'chalet' 'bakery' 'gift_shop' 'bank' 'motel' 'viewpoint' 'fountain'\n",
            " 'bookshop' 'kiosk' 'chemist' 'artwork' 'stationery' 'nightclub'\n",
            " 'battlefield' 'butcher' 'greengrocer' 'comms_tower' 'jeweller'\n",
            " 'shoe_shop' 'optician' 'mobile_phone_shop' 'water_mill' 'travel_agent'\n",
            " 'bicycle_shop' 'beauty_shop' 'florist' 'market_place' 'laundry'\n",
            " 'observation_tower' 'wayside_shrine' 'biergarten' 'bicycle_rental'\n",
            " 'embassy' 'general' 'recycling_paper' 'windmill' 'computer_shop'\n",
            " 'car_sharing' 'hunting_stand' 'bench' 'atm' 'recycling_metal'\n",
            " 'waste_basket' 'food_court']\n",
            "['lighthouse' 'post_box' 'post_office' 'restaurant' 'kindergarten'\n",
            " 'bicycle_shop' 'hairdresser' 'viewpoint' 'supermarket' 'hotel'\n",
            " 'recycling_glass' 'telephone' 'pub' 'guesthouse' 'pharmacy' 'recycling'\n",
            " 'library' 'artwork' 'tourist_info' 'memorial' 'monument' 'police'\n",
            " 'nightclub' 'toilet' 'atm' 'archaeological' 'cafe' 'attraction'\n",
            " 'stationery' 'cinema' 'convenience' 'doctors' 'newsagent' 'fast_food'\n",
            " 'tower' 'school' 'town_hall' 'fire_station' 'castle' 'museum' 'hostel'\n",
            " 'recycling_clothes' 'camera_surveillance' 'outdoor_shop' 'bank'\n",
            " 'courthouse' 'bench' 'butcher' 'dentist' 'travel_agent' 'bar' 'ruins'\n",
            " 'beverages' 'picnic_site' 'sports_centre' 'camp_site' 'arts_centre'\n",
            " 'caravan_site' 'recycling_paper' 'fountain' 'gift_shop' 'park' 'car_wash'\n",
            " 'comms_tower' 'chemist' 'car_rental' 'chalet' 'shelter' 'beauty_shop'\n",
            " 'playground' 'battlefield' 'golf_course' 'community_centre' 'pitch'\n",
            " 'furniture_shop' 'bookshop' 'car_sharing' 'bicycle_rental' 'clinic'\n",
            " 'garden_centre' 'clothes' 'doityourself' 'bakery' 'sports_shop'\n",
            " 'veterinary' 'theatre' 'laundry' 'nursing_home' 'graveyard'\n",
            " 'swimming_pool' 'mobile_phone_shop' 'drinking_water' 'waste_basket'\n",
            " 'car_dealership' 'track' 'kiosk' 'theme_park' 'greengrocer' 'florist'\n",
            " 'windmill' 'optician' 'toy_shop' 'shoe_shop' 'university'\n",
            " 'department_store' 'wayside_cross' 'market_place' 'computer_shop'\n",
            " 'water_mill' 'water_well' 'jeweller' 'college' 'general' 'fort'\n",
            " 'hospital' 'zoo' 'mall' 'wastewater_plant' 'observation_tower'\n",
            " 'vending_parking' 'water_works' 'hunting_stand' 'vending_any'\n",
            " 'video_shop' 'wayside_shrine' 'motel' 'vending_machine' 'public_building'\n",
            " 'embassy' 'water_tower' 'food_court' 'recycling_metal' 'biergarten'\n",
            " 'alpine_hut' 'ice_rink' 'dog_park' 'stadium' 'prison']\n",
            "['rail' 'tram' 'funicular' 'miniature_railway' 'subway' 'narrow_gauge']\n",
            "['residential' 'motorway_link' 'primary_link' 'motorway' 'trunk' 'primary'\n",
            " 'secondary' 'tertiary' 'trunk_link' 'unclassified' 'service' 'track'\n",
            " 'pedestrian' 'footway' 'cycleway' 'tertiary_link' 'track_grade3' 'path'\n",
            " 'steps' 'track_grade2' 'secondary_link' 'track_grade1' 'track_grade4'\n",
            " 'living_street' 'track_grade5' 'bridleway' 'busway' 'unknown']\n",
            "['pier' 'parking_underground' 'parking' 'parking_multistorey' 'fuel' 'dam'\n",
            " 'marina' 'service' 'parking_bicycle' 'weir' 'slipway']\n",
            "['motorway_junction' 'traffic_signals' 'crossing' 'turning_circle'\n",
            " 'mini_roundabout' 'fuel' 'slipway' 'speed_camera' 'lock_gate' 'parking'\n",
            " 'parking_underground' 'stop' 'street_lamp' 'waterfall' 'parking_bicycle'\n",
            " 'weir' 'marina' 'parking_multistorey' 'pier' 'dam']\n",
            "['bus_station' 'apron' 'ferry_terminal' 'airport' 'airfield' 'helipad'\n",
            " 'taxi' 'bus_stop']\n",
            "['railway_station' 'ferry_terminal' 'bus_stop' 'bus_station' 'tram_stop'\n",
            " 'airport' 'taxi' 'helipad' 'airfield']\n",
            "['riverbank' 'wetland' 'water' 'reservoir' 'dock']\n",
            "['stream' 'river' 'canal' 'drain']\n"
          ]
        }
      ]
    }
  ]
}