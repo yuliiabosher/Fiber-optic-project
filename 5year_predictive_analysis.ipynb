{
  "nbformat": 4,
  "nbformat_minor": 0,
  "metadata": {
    "colab": {
      "provenance": [],
      "authorship_tag": "ABX9TyM6HX9ASTwTB6Xg2irPoS+n",
      "include_colab_link": true
    },
    "kernelspec": {
      "name": "python3",
      "display_name": "Python 3"
    },
    "language_info": {
      "name": "python"
    }
  },
  "cells": [
    {
      "cell_type": "markdown",
      "metadata": {
        "id": "view-in-github",
        "colab_type": "text"
      },
      "source": [
        "<a href=\"https://colab.research.google.com/github/yuliiabosher/Fiber-optic-project/blob/europe_stats_analysis/5year_predictive_analysis.ipynb\" target=\"_parent\"><img src=\"https://colab.research.google.com/assets/colab-badge.svg\" alt=\"Open In Colab\"/></a>"
      ]
    },
    {
      "cell_type": "markdown",
      "source": [
        "##Fibre optic data - predicting 100% coverage\n",
        "This notebook contains a small snippet of code to predict 100% coverage\n",
        "of fibre optic availability given a set of 5 values, which will be the %availability for the last 5 years for a given geographical entity(country, parlimentary constituency, postcode area etc)\n",
        "\n",
        "This function takes in five values and calculates a line of best fit\n",
        "assuming they represent % availaibility values over a 5 year period\n",
        "\n",
        "It will then do one of two things:\n",
        "\n",
        "where input parameter yearOrValueFlag = 0 it will return the year at which availability = 100%\n",
        "\n",
        "where  input parameter yearOrValueFlag > 0, it will return the predicted availability percentage for the year (startyear + yearOrValueFlag)\n",
        "\n",
        "So if startyear = 2018 and you want to know what the value will be in 2025, set yearOrValueFlag to 7\n",
        "\n",
        "the funtion then returns the year or percentage value\n",
        "\n"
      ],
      "metadata": {
        "id": "zFqVy8Pg3yj9"
      }
    },
    {
      "cell_type": "code",
      "source": [
        "import numpy as np\n",
        "\n",
        "#############\n",
        "#This function takes in five values and calculates a line of best fit\n",
        "#assuming they represent % availaibility values over a 5 year period\n",
        "#it will then do one of two things:\n",
        "#where input parameter yearOrValueFlag = 0 it will return the year at which availability = 100%\n",
        "#where  input parameter yearOrValueFlag > 0, it will return the predicted availability percentage at time startyear + yearOrValueFlag\n",
        "#so if startyear = 2018 and you want to know what the value will be in 2025, set yearOrValueFlag to 7,\n",
        "#using this line of best fit, we then predict how many years it will take for the value to be 100\n",
        "#and add that to the startyear specified by the user to determine the year 100 will be achieved\n",
        "#the funtion then returns the year or percentage value\n",
        "\n",
        "def fn_predict_progress(year1Value, year2Value, year3Value, year4Value, year5Value, startyear, yearOrValueFlag):\n",
        "\n",
        "  # define two arrays to hold the years and the corresponding values\n",
        "  year = np.array([1,2,3,4,5])\n",
        "  value = np.array([year1Value,year2Value,year3Value,year4Value,year5Value])\n",
        "\n",
        "  # find line equation, beta1 (coefficient) and beta0 (y-intercept)\n",
        "  beta1, beta0 = np.polyfit(year, value, 1)\n",
        "\n",
        "  if yearOrValueFlag == 0:\n",
        "    #find year for a 100% coverage\n",
        "    y_value = 100\n",
        "    x_year = 0\n",
        "\n",
        "    x_year = (y_value - beta0)/beta1\n",
        "\n",
        "    #having some problems with array so check if its a value in an array or just a scalar\n",
        "    if isinstance(x_year, np.ndarray):\n",
        "     thisyear = round(x_year[0] + startyear,0)\n",
        "    else:\n",
        "      thisyear = round(x_year + startyear, 0) # Use x_year directly if it's a scalar\n",
        "\n",
        "    return thisyear\n",
        "  else:\n",
        "    #find coverage where year = yearOrValueFlag\n",
        "    y_value = 0\n",
        "    x_year = yearOrValueFlag\n",
        "\n",
        "    y_value = beta0 + beta1*x_year\n",
        "\n",
        "    return y_value\n"
      ],
      "metadata": {
        "id": "uL5PeghJ4eOG"
      },
      "execution_count": 1,
      "outputs": []
    },
    {
      "cell_type": "markdown",
      "source": [
        "I've included below some examples of how to call it. The hardcoded values will be derived from dataframes when its in use. However they are taken from actual figures in the EC dataset"
      ],
      "metadata": {
        "id": "Z5Y8PcXL58IJ"
      }
    },
    {
      "cell_type": "code",
      "execution_count": 7,
      "metadata": {
        "colab": {
          "base_uri": "https://localhost:8080/"
        },
        "id": "slyDmMOb3qZT",
        "outputId": "8c91af4f-d6fe-458e-d593-3ee7e948ee27"
      },
      "outputs": [
        {
          "output_type": "stream",
          "name": "stdout",
          "text": [
            "UK will reach 100% full fibre in  2028.0\n",
            "Rural areas of the UK will reach 100% full fibre in  2031.0\n",
            "UK fibre availability in 2024 will be   59.24000000000001\n",
            "UK fibre availability in 2025 will be   70.04000000000002\n",
            "UK fibre availability in 2026 will be   80.84000000000002\n",
            "UK fibre availability in 2027 will be   91.64000000000001\n",
            "UK fibre availability in 2028 will be   102.44000000000003\n",
            "UK fibre availability in 2029 will be   113.24000000000002\n",
            "UK fibre availability in 2030 will be   124.04000000000002\n",
            "France will reach 100% full fibre in  2025.0\n",
            "Rural areas of France will reach 100% full fibre in  2026.0\n",
            "Germany will reach 100% full fibre in  2040.0\n",
            "Rural areas of Germany will reach 100% full fibre in  2040.0\n",
            "Germany availability in 2027 will be  44.22\n",
            "Germany availability in 2027 will be  101.55000000000001\n"
          ]
        }
      ],
      "source": [
        "print(\"UK will reach 100% full fibre in \", fn_predict_progress(8.5,14.5,23.3,36.3,51.6,2018,0))\n",
        "print(\"Rural areas of the UK will reach 100% full fibre in \", fn_predict_progress(8.1,11.9,20.2,29.5,39.4,2018,0))\n",
        "print(\"UK fibre availability in 2024 will be  \", fn_predict_progress(8.5,14.5,23.3,36.3,51.6,2018,6))\n",
        "print(\"UK fibre availability in 2025 will be  \", fn_predict_progress(8.5,14.5,23.3,36.3,51.6,2018,7))\n",
        "print(\"UK fibre availability in 2026 will be  \", fn_predict_progress(8.5,14.5,23.3,36.3,51.6,2018,8))\n",
        "print(\"UK fibre availability in 2027 will be  \", fn_predict_progress(8.5,14.5,23.3,36.3,51.6,2018,9))\n",
        "print(\"UK fibre availability in 2028 will be  \", fn_predict_progress(8.5,14.5,23.3,36.3,51.6,2018,10))\n",
        "print(\"UK fibre availability in 2029 will be  \", fn_predict_progress(8.5,14.5,23.3,36.3,51.6,2018,11))\n",
        "print(\"UK fibre availability in 2030 will be  \", fn_predict_progress(8.5,14.5,23.3,36.3,51.6,2018,12))\n",
        "\n",
        "print(\"France will reach 100% full fibre in \", fn_predict_progress(43.8,52.6,63.4,73.4,81.4,2018,0))\n",
        "print(\"Rural areas of France will reach 100% full fibre in \", fn_predict_progress(12.4,18.4,28.8,45.9,64.6,2018,0))\n",
        "\n",
        "print(\"Germany will reach 100% full fibre in \", fn_predict_progress(10.5,13.8,15.4,19.3,29.8,2018,0))\n",
        "print(\"Rural areas of Germany will reach 100% full fibre in \", fn_predict_progress(5.6,10.6,11.3,16.9,25.6,2018,0))\n",
        "\n",
        "print(\"Germany availability in 2027 will be \", fn_predict_progress(10.5,13.8,15.4,19.3,29.8,2018,9))\n",
        "print(\"Germany availability in 2027 will be \", fn_predict_progress(10.5,13.8,15.4,19.3,29.8,2018,22))\n"
      ]
    },
    {
      "cell_type": "code",
      "source": [
        "#"
      ],
      "metadata": {
        "id": "R5VCVkKjn1sd"
      },
      "execution_count": null,
      "outputs": []
    }
  ]
}